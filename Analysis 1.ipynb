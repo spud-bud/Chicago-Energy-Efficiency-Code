{
 "cells": [
  {
   "cell_type": "code",
   "execution_count": 44,
   "metadata": {
    "collapsed": true
   },
   "outputs": [],
   "source": [
    "import csv\n",
    "from math import fsum\n",
    "from statistics import median"
   ]
  },
  {
   "cell_type": "code",
   "execution_count": 45,
   "metadata": {
    "collapsed": true
   },
   "outputs": [],
   "source": [
    "file_name = \"Final Data 2.csv\""
   ]
  },
  {
   "cell_type": "code",
   "execution_count": 46,
   "metadata": {
    "collapsed": false
   },
   "outputs": [],
   "source": [
    "with open(file_name, 'r') as f:\n",
    "    reader = csv.reader(f)\n",
    "    file = (list(reader))"
   ]
  },
  {
   "cell_type": "code",
   "execution_count": 47,
   "metadata": {
    "collapsed": true
   },
   "outputs": [],
   "source": [
    "columns = file[0]\n",
    "data = file[1:]\n",
    "required_results = {}\n",
    "voluntary_results = {}\n",
    "all_types_results = {}"
   ]
  },
  {
   "cell_type": "code",
   "execution_count": 48,
   "metadata": {
    "collapsed": false
   },
   "outputs": [],
   "source": [
    "# sorts out duplicates from dataset. This is the same as the \"all\" or \"total\" dataset for the sake of analysis #1\n",
    "all_buildings = []\n",
    "for row in data:\n",
    "    if row[8] == '0':\n",
    "        all_buildings.append(row)"
   ]
  },
  {
   "cell_type": "code",
   "execution_count": 49,
   "metadata": {
    "collapsed": false
   },
   "outputs": [],
   "source": [
    "# note: \"Compliance Type\" is at req_buildings[51]\n",
    "# creates list of only required submissions\n",
    "req_buildings = []\n",
    "for row in all_buildings:\n",
    "    if row[51] == 'Required':\n",
    "        req_buildings.append(row)"
   ]
  },
  {
   "cell_type": "code",
   "execution_count": 50,
   "metadata": {
    "collapsed": false
   },
   "outputs": [],
   "source": [
    "# creates list of only voluntary submissions\n",
    "vol_buildings = []\n",
    "for row in all_buildings:\n",
    "    if row[51] == 'Voluntary (Floor Area)' or row[51] == 'Voluntary (Space Use and Floor Area)' or row[51] == 'Voluntary (Space Use)':\n",
    "        vol_buildings.append(row)"
   ]
  },
  {
   "cell_type": "code",
   "execution_count": 51,
   "metadata": {
    "collapsed": false
   },
   "outputs": [],
   "source": [
    "########## Calculations for required reporters ##########\n",
    "\n",
    "#Property GFA - EPA Calculated (Buildings and Parking) (ft²) is at index 17 for any given row in req_buildings\n",
    "req_bp_area = [] # list for buildings and parking floor area\n",
    "for row in req_buildings:\n",
    "    if row[17] != 'Not Available':\n",
    "        req_bp_area.append(float(row[17]))\n",
    "\n",
    "##### Gives total size of buildings and parking #####\n",
    "required_results['Building and parking area'] = fsum(req_bp_area)\n",
    "\n",
    "#Property GFA - EPA Calculated (Buildings) (ft²) is at index 18 for any given row in req_buildings\n",
    "req_b_area = [] # list for ONLY buildings area\n",
    "for row in req_buildings:\n",
    "    if row[18] != 'Not Available':\n",
    "        req_b_area.append(float(row[18]))\n",
    "\n",
    "##### Gives total size of buildings ONLY #####\n",
    "required_results['Building area'] = fsum(req_b_area)\n",
    "\n",
    "#Property GFA - EPA Calculated (Parking) (ft²) is at index 19 for any given row in req_buildings\n",
    "req_p_area = [] # list for ONLY parking area\n",
    "for row in req_buildings:\n",
    "    if row[19] != 'Not Available':\n",
    "        req_p_area.append(float(row[19]))\n",
    "\n",
    "##### Gives total size of parking ONLY #####\n",
    "required_results['Parking area'] = fsum(req_p_area)\n",
    "\n",
    "##### Gives median building area for required reporters #####\n",
    "required_results['median building area'] = median(req_b_area)\n",
    "\n",
    "# Calculates WN site energy use total and median\n",
    "# Weather Normalized Site Energy Use (kBtu) is in row 88\n",
    "req_wn_site_use = []\n",
    "for row in req_buildings:\n",
    "    if row[88] != 'Not Available':\n",
    "        req_wn_site_use.append(float(row[88]))\n",
    "        \n",
    "required_results['median WN site use'] = median(req_wn_site_use)\n",
    "required_results['total WN site use'] = fsum(req_wn_site_use)\n",
    "    \n",
    "\n",
    "# Calculates WN source energy use total and median\n",
    "req_wn_source_use = []\n",
    "for row in req_buildings:\n",
    "    if row[89] != 'Not Available':\n",
    "        req_wn_source_use.append(float(row[89]))\n",
    "\n",
    "required_results['median WN source use'] = median(req_wn_source_use)\n",
    "required_results['total WN source use'] = fsum(req_wn_source_use)      \n",
    "\n",
    "# Calculates WN site EUI median\n",
    "req_wn_site_use_EUI = []\n",
    "for row in req_buildings:\n",
    "    if row[90] != 'Not Available':\n",
    "        req_wn_site_use_EUI.append(float(row[90]))\n",
    "\n",
    "required_results['median WN site EUI'] = median(req_wn_site_use_EUI)\n",
    "\n",
    "# Calculates WN source EUI median\n",
    "req_wn_source_use_EUI = []\n",
    "for row in req_buildings:\n",
    "    if row[91] != 'Not Available':\n",
    "        req_wn_source_use_EUI.append(float(row[91]))\n",
    "\n",
    "required_results['median WN source EUI'] = median(req_wn_source_use_EUI)\n",
    "\n",
    "req_energy_star = []\n",
    "for row in req_buildings:\n",
    "    if row[77] != 'Not Available':\n",
    "        req_energy_star.append(int(row[77]))\n",
    "\n",
    "required_results['median ENERGY STAR score'] = median(req_energy_star)\n",
    "\n",
    "\n",
    "req_emissions = []\n",
    "for row in req_buildings:\n",
    "    if row[97] != 'Not Available':\n",
    "        req_emissions.append(float(row[97]))\n",
    "\n",
    "required_results['total GHG emissions'] = fsum(req_emissions)"
   ]
  },
  {
   "cell_type": "code",
   "execution_count": 52,
   "metadata": {
    "collapsed": false
   },
   "outputs": [],
   "source": [
    "########## Calculations for voluntary reporters ##########\n",
    "\n",
    "#Property GFA - EPA Calculated (Buildings and Parking) (ft²) is at index 17 for any given row in vol_buildings\n",
    "vol_bp_area = [] # list for buildings and parking floor area\n",
    "for row in vol_buildings:\n",
    "    if row[17] != 'Not Available':\n",
    "        vol_bp_area.append(float(row[17]))\n",
    "\n",
    "##### Gives total size of buildings and parking #####\n",
    "voluntary_results['Building and parking area'] = fsum(vol_bp_area)\n",
    "\n",
    "#Property GFA - EPA Calculated (Buildings) (ft²) is at index 18 for any given row in vol_buildings\n",
    "vol_b_area = [] # list for ONLY buildings area\n",
    "for row in vol_buildings:\n",
    "    if row[18] != 'Not Available':\n",
    "        vol_b_area.append(float(row[18]))\n",
    "\n",
    "##### Gives total size of buildings ONLY #####\n",
    "voluntary_results['Building area'] = fsum(vol_b_area)\n",
    "\n",
    "#Property GFA - EPA Calculated (Parking) (ft²) is at index 19 for any given row in vol_buildings\n",
    "vol_p_area = [] # list for ONLY parking area\n",
    "for row in vol_buildings:\n",
    "    if row[19] != 'Not Available':\n",
    "        vol_p_area.append(float(row[19]))\n",
    "\n",
    "##### Gives total size of parking ONLY #####\n",
    "voluntary_results['Parking area'] = fsum(vol_p_area)\n",
    "\n",
    "##### Gives median building area for voluntary reporters #####\n",
    "voluntary_results['median building area'] = median(vol_b_area)\n",
    "\n",
    "# Calculates WN site energy use total and median\n",
    "# Weather Normalized Site Energy Use (kBtu) is in row 88\n",
    "vol_wn_site_use = []\n",
    "for row in vol_buildings:\n",
    "    if row[88] != 'Not Available':\n",
    "        vol_wn_site_use.append(float(row[88]))\n",
    "        \n",
    "voluntary_results['median WN site use'] = median(vol_wn_site_use)\n",
    "voluntary_results['total WN site use'] = fsum(vol_wn_site_use)\n",
    "    \n",
    "\n",
    "# Calculates WN source energy use total and median\n",
    "vol_wn_source_use = []\n",
    "for row in vol_buildings:\n",
    "    if row[89] != 'Not Available':\n",
    "        vol_wn_source_use.append(float(row[89]))\n",
    "\n",
    "voluntary_results['median WN source use'] = median(vol_wn_source_use)\n",
    "voluntary_results['total WN source use'] = fsum(vol_wn_source_use)      \n",
    "\n",
    "# Calculates WN site EUI median\n",
    "vol_wn_site_use_EUI = []\n",
    "for row in vol_buildings:\n",
    "    if row[90] != 'Not Available':\n",
    "        vol_wn_site_use_EUI.append(float(row[90]))\n",
    "\n",
    "voluntary_results['median WN site EUI'] = median(vol_wn_site_use_EUI)\n",
    "\n",
    "# Calculates WN source EUI median\n",
    "vol_wn_source_use_EUI = []\n",
    "for row in vol_buildings:\n",
    "    if row[91] != 'Not Available':\n",
    "        vol_wn_source_use_EUI.append(float(row[91]))\n",
    "\n",
    "voluntary_results['median WN source EUI'] = median(vol_wn_source_use_EUI)\n",
    "\n",
    "vol_energy_star = []\n",
    "for row in vol_buildings:\n",
    "    if row[77] != 'Not Available':\n",
    "        vol_energy_star.append(int(row[77]))\n",
    "\n",
    "voluntary_results['median ENERGY STAR score'] = median(vol_energy_star)\n",
    "\n",
    "\n",
    "vol_emissions = []\n",
    "for row in vol_buildings:\n",
    "    if row[97] != 'Not Available':\n",
    "        vol_emissions.append(float(row[97]))\n",
    "\n",
    "voluntary_results['total GHG emissions'] = fsum(vol_emissions)"
   ]
  },
  {
   "cell_type": "code",
   "execution_count": 53,
   "metadata": {
    "collapsed": false
   },
   "outputs": [],
   "source": [
    "########## Calculations for all reporters ##########\n",
    "\n",
    "#Property GFA - EPA Calculated (Buildings and Parking) (ft²) is at index 17 for any given row in all_buildings\n",
    "all_bp_area = [] # list for buildings and parking floor area\n",
    "for row in all_buildings:\n",
    "    if row[17] != 'Not Available' and row[17] != '':\n",
    "        all_bp_area.append(float(row[17]))\n",
    "\n",
    "##### Gives total size of buildings and parking #####\n",
    "all_types_results['Building and parking area'] = fsum(all_bp_area)\n",
    "\n",
    "#Property GFA - EPA Calculated (Buildings) (ft²) is at index 18 for any given row in all_buildings\n",
    "all_b_area = [] # list for ONLY buildings area\n",
    "for row in all_buildings:\n",
    "    if row[18] != 'Not Available' and row[18] != '':\n",
    "        all_b_area.append(float(row[18]))\n",
    "\n",
    "##### Gives total size of buildings ONLY #####\n",
    "all_types_results['Building area'] = fsum(all_b_area)\n",
    "\n",
    "#Property GFA - EPA Calculated (Parking) (ft²) is at index 19 for any given row in all_buildings\n",
    "all_p_area = [] # list for ONLY parking area\n",
    "for row in all_buildings:\n",
    "    if row[19] != 'Not Available' and row[19] != '':\n",
    "        all_p_area.append(float(row[19]))\n",
    "\n",
    "##### Gives total size of parking ONLY #####\n",
    "all_types_results['Parking area'] = fsum(all_p_area)\n",
    "\n",
    "##### Gives median building area for all_types reporters #####\n",
    "all_types_results['median building area'] = median(all_b_area)\n",
    "\n",
    "# Calculates WN site energy use total and median\n",
    "# Weather Normalized Site Energy Use (kBtu) is in row 88\n",
    "all_wn_site_use = []\n",
    "for row in all_buildings:\n",
    "    if row[88] != 'Not Available' and row[88] != '':\n",
    "        all_wn_site_use.append(float(row[88]))\n",
    "        \n",
    "all_types_results['median WN site use'] = median(all_wn_site_use)\n",
    "all_types_results['total WN site use'] = fsum(all_wn_site_use)\n",
    "    \n",
    "\n",
    "# Calculates WN source energy use total and median\n",
    "all_wn_source_use = []\n",
    "for row in all_buildings:\n",
    "    if row[89] != 'Not Available' and row[89] != '':\n",
    "        all_wn_source_use.append(float(row[89]))\n",
    "\n",
    "all_types_results['median WN source use'] = median(all_wn_source_use)\n",
    "all_types_results['total WN source use'] = fsum(all_wn_source_use)      \n",
    "\n",
    "# Calculates WN site EUI median\n",
    "all_wn_site_use_EUI = []\n",
    "for row in all_buildings:\n",
    "    if row[90] != 'Not Available' and row[90] != '':\n",
    "        all_wn_site_use_EUI.append(float(row[90]))\n",
    "\n",
    "all_types_results['median WN site EUI'] = median(all_wn_site_use_EUI)\n",
    "\n",
    "# Calculates WN source EUI median\n",
    "all_wn_source_use_EUI = []\n",
    "for row in all_buildings:\n",
    "    if row[91] != 'Not Available' and row[91] != '':\n",
    "        all_wn_source_use_EUI.append(float(row[91]))\n",
    "\n",
    "all_types_results['median WN source EUI'] = median(all_wn_source_use_EUI)\n",
    "\n",
    "all_energy_star = []\n",
    "for row in all_buildings:\n",
    "    if row[77] != 'Not Available' and row[77] != '':\n",
    "        all_energy_star.append(int(row[77]))\n",
    "\n",
    "all_types_results['median ENERGY STAR score'] = median(all_energy_star)\n",
    "\n",
    "\n",
    "all_emissions = []\n",
    "for row in all_buildings:\n",
    "    if row[97] != 'Not Available' and row[97] != '':\n",
    "        all_emissions.append(float(row[97]))\n",
    "\n",
    "all_types_results['total GHG emissions'] = fsum(all_emissions)"
   ]
  },
  {
   "cell_type": "code",
   "execution_count": 54,
   "metadata": {
    "collapsed": false
   },
   "outputs": [],
   "source": [
    "with open('analysis_1_results.csv', 'w') as csvfile:\n",
    "    fieldnames = list(all_types_results.keys())\n",
    "    writer = csv.DictWriter(csvfile, fieldnames=fieldnames, lineterminator = '\\n')\n",
    "\n",
    "    writer.writeheader()\n",
    "    writer.writerow(all_types_results)\n",
    "    writer.writerow(required_results)\n",
    "    writer.writerow(voluntary_results)"
   ]
  },
  {
   "cell_type": "code",
   "execution_count": 58,
   "metadata": {
    "collapsed": false
   },
   "outputs": [
    {
     "data": {
      "text/plain": [
       "92"
      ]
     },
     "execution_count": 58,
     "metadata": {},
     "output_type": "execute_result"
    }
   ],
   "source": [
    "len(vol_buildings)"
   ]
  },
  {
   "cell_type": "code",
   "execution_count": null,
   "metadata": {
    "collapsed": true
   },
   "outputs": [],
   "source": []
  }
 ],
 "metadata": {
  "kernelspec": {
   "display_name": "Python 3",
   "language": "python",
   "name": "python3"
  },
  "language_info": {
   "codemirror_mode": {
    "name": "ipython",
    "version": 3
   },
   "file_extension": ".py",
   "mimetype": "text/x-python",
   "name": "python",
   "nbconvert_exporter": "python",
   "pygments_lexer": "ipython3",
   "version": "3.5.1"
  }
 },
 "nbformat": 4,
 "nbformat_minor": 0
}
