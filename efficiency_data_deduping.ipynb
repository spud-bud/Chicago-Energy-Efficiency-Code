{
 "cells": [
  {
   "cell_type": "code",
   "execution_count": 1,
   "metadata": {
    "collapsed": false
   },
   "outputs": [],
   "source": [
    "import csv\n",
    "import pandas as pd\n",
    "import numpy as np\n",
    "from collections import defaultdict\n",
    "import matplotlib\n",
    "%matplotlib inline"
   ]
  },
  {
   "cell_type": "code",
   "execution_count": 3,
   "metadata": {
    "collapsed": false
   },
   "outputs": [],
   "source": [
    "data = pd.read_excel(\"For Data Analysis_2016 Chicago Energy Benchmarking Reporting (2015 Data)_12JUL2016.xlsx\")"
   ]
  },
  {
   "cell_type": "code",
   "execution_count": null,
   "metadata": {
    "collapsed": false
   },
   "outputs": [],
   "source": [
    "def _get_character_pairs(string):\n",
    "    \"\"\"\n",
    "    Returns a defaultdict of adjacent character pair counts.\n",
    "    Input: string\n",
    "    Output: defaultdict\n",
    "    \"\"\"\n",
    "    results = defaultdict(lambda: 0)\n",
    "\n",
    "    for word in string.upper().split():\n",
    "        for pair in [word[i]+word[i+1] for i in range(len(word)-1)]:\n",
    "            results[pair] += 1\n",
    "\n",
    "    return results\n",
    "\n",
    "def strike_a_match(string1, string2):\n",
    "    \"\"\"\n",
    "    Returns a score between 0.0 and 1.0, with 1 being an exact match.\n",
    "    Uses strike a match algorithm.\n",
    "    Input: 2 strings to compare\n",
    "    Output: float between 0 and 1\n",
    "    \"\"\"\n",
    "    s1_pairs = _get_character_pairs(string1)\n",
    "    s2_pairs = _get_character_pairs(string2)\n",
    "    small_dict, large_dict = sorted(\n",
    "        [s1_pairs, s2_pairs], key=lambda pair_dict: sum(pair_dict.values()))\n",
    "    intersection_count = 0\n",
    "    s1_size = sum(s1_pairs.values())\n",
    "    s2_size = sum(s2_pairs.values())\n",
    "\n",
    "    for pair, small_pair_count in small_dict.items():\n",
    "        if pair in large_dict and large_dict[pair] > 0:\n",
    "            if small_pair_count < large_dict[pair]:\n",
    "                intersection_count += small_pair_count\n",
    "            else:\n",
    "                intersection_count += large_dict[pair]\n",
    "\n",
    "    return (2.0 * intersection_count) / ((s1_size + s2_size) or 1)"
   ]
  },
  {
   "cell_type": "code",
   "execution_count": null,
   "metadata": {
    "collapsed": false
   },
   "outputs": [],
   "source": [
    "names = list(data['Unnamed: 1'][4:])\n",
    "prop_id = list(data['2016 Chicago Energy Benchmarking Reporting (2015 Data)'][4:])\n",
    "parents = list(data['Unnamed: 2'][4:])\n",
    "benchmarking_id = list(data['Unnamed: 5'][4:])\n",
    "address1 = list(data['Unnamed: 6'][4:])"
   ]
  },
  {
   "cell_type": "code",
   "execution_count": null,
   "metadata": {
    "collapsed": false
   },
   "outputs": [],
   "source": [
    "#for exploring data\n",
    "data['Unnamed: 197']"
   ]
  },
  {
   "cell_type": "code",
   "execution_count": null,
   "metadata": {
    "collapsed": false
   },
   "outputs": [],
   "source": [
    "def dedupe(column):\n",
    "    ''' column is a list\n",
    "    '''\n",
    "    duplicates = []\n",
    "    for i, name in enumerate(column):\n",
    "        for next_name in column[i+1:]:\n",
    "            if strike_a_match(str(name), str(next_name)) >= .95:\n",
    "                duplicates.append((str(name), str(next_name)))\n",
    "    return list(set(duplicates))"
   ]
  },
  {
   "cell_type": "code",
   "execution_count": null,
   "metadata": {
    "collapsed": false
   },
   "outputs": [],
   "source": [
    "name_dupes = dedupe(names)\n",
    "prop_id_dupes = dedupe(prop_id)\n",
    "parent_dupes = dedupe(parents)\n",
    "benchmarking_dupes = dedupe(benchmarking_id)\n",
    "addy_dupes = dedupe(address1)"
   ]
  },
  {
   "cell_type": "code",
   "execution_count": null,
   "metadata": {
    "collapsed": false
   },
   "outputs": [],
   "source": [
    "sorted(benchmarking_dupes)"
   ]
  },
  {
   "cell_type": "code",
   "execution_count": null,
   "metadata": {
    "collapsed": false
   },
   "outputs": [],
   "source": []
  },
  {
   "cell_type": "code",
   "execution_count": null,
   "metadata": {
    "collapsed": false
   },
   "outputs": [],
   "source": [
    "usage_gridpurchase_kwh = data['Unnamed: 35']\n",
    "usage_gp_kwh = pd.to_numeric(usage_gridpurchase_kwh, errors=('coerce',))\n",
    "usage_gp_kwh "
   ]
  },
  {
   "cell_type": "code",
   "execution_count": null,
   "metadata": {
    "collapsed": false
   },
   "outputs": [],
   "source": [
    "usage_gp_kwh.plot.hist(bins=2)"
   ]
  },
  {
   "cell_type": "code",
   "execution_count": null,
   "metadata": {
    "collapsed": false
   },
   "outputs": [],
   "source": []
  },
  {
   "cell_type": "code",
   "execution_count": null,
   "metadata": {
    "collapsed": true
   },
   "outputs": [],
   "source": []
  }
 ],
 "metadata": {
  "kernelspec": {
   "display_name": "Python 3",
   "language": "python",
   "name": "python3"
  },
  "language_info": {
   "codemirror_mode": {
    "name": "ipython",
    "version": 3
   },
   "file_extension": ".py",
   "mimetype": "text/x-python",
   "name": "python",
   "nbconvert_exporter": "python",
   "pygments_lexer": "ipython3",
   "version": "3.5.1"
  }
 },
 "nbformat": 4,
 "nbformat_minor": 0
}
