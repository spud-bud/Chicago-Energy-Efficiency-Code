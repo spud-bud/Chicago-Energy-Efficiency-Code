{
 "cells": [
  {
   "cell_type": "code",
   "execution_count": 39,
   "metadata": {
    "collapsed": true
   },
   "outputs": [],
   "source": [
    "import csv\n",
    "import pandas as pd\n",
    "import matplotlib as plt\n",
    "% matplotlib inline"
   ]
  },
  {
   "cell_type": "code",
   "execution_count": 40,
   "metadata": {
    "collapsed": false
   },
   "outputs": [],
   "source": [
    "df = pd.read_csv(\"Analyses/Final Data.csv\", encoding = 'iso-8859-1')\n",
    "df['Weather Normalized Site EUI (kBtu/ft2)'] = pd.to_numeric(df['Weather Normalized Site EUI (kBtu/ft2)'], errors = 'coerce')\n",
    "df['Weather Normalized Source EUI (kBtu/ft2)'] = pd.to_numeric(df['Weather Normalized Source EUI (kBtu/ft2)'], errors = 'coerce')"
   ]
  },
  {
   "cell_type": "code",
   "execution_count": 41,
   "metadata": {
    "collapsed": false
   },
   "outputs": [],
   "source": [
    "df = df[df['Include in Data Analysis'] == 1]"
   ]
  },
  {
   "cell_type": "code",
   "execution_count": 42,
   "metadata": {
    "collapsed": false
   },
   "outputs": [],
   "source": [
    "### Analysis 16 ###\n",
    "analysis_sixteen = (df[['Weather Normalized Site EUI (kBtu/ft2)', 'Primary Property Type Category - Reduced']]\n",
    "                    .groupby('Primary Property Type Category - Reduced').describe()\n",
    "                    )"
   ]
  },
  {
   "cell_type": "code",
   "execution_count": 43,
   "metadata": {
    "collapsed": false
   },
   "outputs": [],
   "source": [
    "### Analysis 17 ###\n",
    "analysis_seventeen = (df[['Weather Normalized Source EUI (kBtu/ft2)', 'Primary Property Type Category - Reduced']]\n",
    "                      .groupby('Primary Property Type Category - Reduced').describe()\n",
    "                      )"
   ]
  },
  {
   "cell_type": "code",
   "execution_count": 44,
   "metadata": {
    "collapsed": false
   },
   "outputs": [],
   "source": [
    "analysis_sixteen.to_csv('Analysis 16.csv')"
   ]
  },
  {
   "cell_type": "code",
   "execution_count": 45,
   "metadata": {
    "collapsed": true
   },
   "outputs": [],
   "source": [
    "analysis_seventeen.to_csv('Analysis 17.csv')"
   ]
  }
 ],
 "metadata": {
  "kernelspec": {
   "display_name": "Python 3",
   "language": "python",
   "name": "python3"
  },
  "language_info": {
   "codemirror_mode": {
    "name": "ipython",
    "version": 3
   },
   "file_extension": ".py",
   "mimetype": "text/x-python",
   "name": "python",
   "nbconvert_exporter": "python",
   "pygments_lexer": "ipython3",
   "version": "3.5.1"
  }
 },
 "nbformat": 4,
 "nbformat_minor": 0
}
