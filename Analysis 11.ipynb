{
 "cells": [
  {
   "cell_type": "code",
   "execution_count": 1,
   "metadata": {
    "collapsed": true
   },
   "outputs": [],
   "source": [
    "import csv\n",
    "import pandas as pd\n",
    "import matplotlib as plt\n",
    "% matplotlib inline"
   ]
  },
  {
   "cell_type": "code",
   "execution_count": 2,
   "metadata": {
    "collapsed": false
   },
   "outputs": [],
   "source": [
    "df = pd.read_csv(\"Analyses/Final Data.csv\", encoding = 'iso-8859-1')"
   ]
  },
  {
   "cell_type": "code",
   "execution_count": 3,
   "metadata": {
    "collapsed": true
   },
   "outputs": [],
   "source": [
    "df = df[df['Include in Data Analysis'] == 1]"
   ]
  },
  {
   "cell_type": "code",
   "execution_count": 4,
   "metadata": {
    "collapsed": false
   },
   "outputs": [],
   "source": [
    "df['Property GFA - EPA Calculated (Buildings) (ft2)'] = pd.to_numeric(df['Property GFA - EPA Calculated (Buildings) (ft2)'])"
   ]
  },
  {
   "cell_type": "code",
   "execution_count": 5,
   "metadata": {
    "collapsed": false
   },
   "outputs": [],
   "source": [
    "bins = list(range(0,700001,50000))\n",
    "bins.append(1000000)\n",
    "labels = ['0-50,000', '50,001-100,000', '100,001-150,000', '150,001-200,000', '200,001-250,000', '250,001-300,000', '300,001-350,000', \\\n",
    "          '350,001-400,000', '400,001-450,000', '450,001-500,000', '500,001-550,000', '550,001-600,000','600,001-650,000', '650,001-700,000', \"700,000 and up\"]\n",
    "prop_size_distribution = pd.cut(df['Property GFA - EPA Calculated (Buildings) (ft2)'], bins, labels=labels)\n",
    "df['prop_size_distribution'] = prop_size_distribution\n",
    "results = df[['prop_size_distribution', 'Chicago Energy Benchmarking ID']].groupby('prop_size_distribution').count()"
   ]
  },
  {
   "cell_type": "code",
   "execution_count": 6,
   "metadata": {
    "collapsed": true
   },
   "outputs": [],
   "source": [
    "results.to_csv('property_size_distribution.csv')"
   ]
  },
  {
   "cell_type": "code",
   "execution_count": null,
   "metadata": {
    "collapsed": true
   },
   "outputs": [],
   "source": []
  }
 ],
 "metadata": {
  "kernelspec": {
   "display_name": "Python 3",
   "language": "python",
   "name": "python3"
  },
  "language_info": {
   "codemirror_mode": {
    "name": "ipython",
    "version": 3
   },
   "file_extension": ".py",
   "mimetype": "text/x-python",
   "name": "python",
   "nbconvert_exporter": "python",
   "pygments_lexer": "ipython3",
   "version": "3.5.1"
  }
 },
 "nbformat": 4,
 "nbformat_minor": 0
}
