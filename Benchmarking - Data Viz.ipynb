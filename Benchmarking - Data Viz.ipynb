{
 "cells": [
  {
   "cell_type": "markdown",
   "metadata": {},
   "source": [
    "# August 2016 Chicago Energy Benchmarking \n",
    "------\n",
    "#### Data Cleaning and Visualization Workbook"
   ]
  },
  {
   "cell_type": "code",
   "execution_count": 2,
   "metadata": {
    "collapsed": false
   },
   "outputs": [],
   "source": [
    "import csv\n",
    "import matplotlib.pyplot as plt\n",
    "plt.style.use('fivethirtyeight')\n",
    "import matplotlib\n",
    "import pandas as pd\n",
    "% matplotlib inline"
   ]
  },
  {
   "cell_type": "code",
   "execution_count": 3,
   "metadata": {
    "collapsed": false
   },
   "outputs": [],
   "source": [
    "# Reading in the Data\n",
    "df = pd.read_csv(\"Final Data.csv\", encoding='iso-8859-1')\n",
    "\n",
    "# Limiting to rows that we want to include (excluding outliers)\n",
    "df = df[df['Include in Data Analysis'] == 1]"
   ]
  },
  {
   "cell_type": "markdown",
   "metadata": {},
   "source": [
    "### Analyses 5 & 6\n",
    "WN Site and Source EUI Distributions by Property Type\n",
    "- Histograms and Boxplots"
   ]
  },
  {
   "cell_type": "code",
   "execution_count": 8,
   "metadata": {
    "collapsed": true
   },
   "outputs": [],
   "source": [
    "# Casting Source and Site EUI columns to numeric type\n",
    "df['Weather Normalized Source EUI (kBtu/ft2)'] = (\n",
    "    pd.to_numeric(\n",
    "        df['Weather Normalized Source EUI (kBtu/ft2)'], \n",
    "            errors='coerce'))\n",
    "\n",
    "df['Weather Normalized Site EUI (kBtu/ft2)'] = (\n",
    "    pd.to_numeric(\n",
    "        df['Weather Normalized Site EUI (kBtu/ft2)'], \n",
    "            errors='coerce'))\n",
    "\n",
    "# Creating a series for each column\n",
    "sources = df['Weather Normalized Source EUI (kBtu/ft2)']\n",
    "sites = df['Weather Normalized Site EUI (kBtu/ft2)']"
   ]
  },
  {
   "cell_type": "markdown",
   "metadata": {},
   "source": [
    "#### 5 - Source EUI Histograms and Box Plots"
   ]
  },
  {
   "cell_type": "code",
   "execution_count": 10,
   "metadata": {
    "collapsed": false
   },
   "outputs": [],
   "source": [
    "# Getting rid of outliers outside of 3 standard deviations\n",
    "# and Plotting the Histogram\n",
    "\n",
    "# fig = sources[~((sources-sources.mean()).abs()>3*sources.std())].hist(\n",
    "#     bins=100, \n",
    "#     figsize=(8, 6),\n",
    "#     color=\"steelblue\")\n",
    "# plt.suptitle(\"Weather Normalized Source EUI Histogram\", size=18)\n",
    "# plt.xlabel(\"WN Source EUI\", size=14)\n",
    "# plt.ylabel(\"Number of Buildings\", size=14)\n",
    "# plt.savefig(\"Data and Visualizations/5a - WN Source EUI Histogram.png\")"
   ]
  },
  {
   "cell_type": "code",
   "execution_count": 11,
   "metadata": {
    "collapsed": false
   },
   "outputs": [],
   "source": [
    "# Plotting the Box and Whisker for Source EUI\n",
    "\n",
    "# bp = df.boxplot(column=['Weather Normalized Source EUI (kBtu/ft2)'], \n",
    "#                 by=['Primary Property Type Category - Reduced'],\n",
    "#                 figsize=(8, 6))\n",
    "# plt.suptitle(\"WN Source EUI Boxplots Grouped by Primary Property Type\", size=16)\n",
    "# plt.title(\"\")\n",
    "# plt.ylim(0,1200)\n",
    "# plt.xticks(rotation=50)\n",
    "# plt.ylabel(\"Weather Normalized Source EUI\", size=14)\n",
    "# plt.xlabel(\"Primary Property Type\", size=14)\n",
    "# plt.savefig(\"Data and Visualizations/5b - WN Source EUI Boxplots.png\")"
   ]
  },
  {
   "cell_type": "markdown",
   "metadata": {
    "collapsed": true
   },
   "source": [
    "#### 6 - Site EUI Histograms and Boxplots"
   ]
  },
  {
   "cell_type": "code",
   "execution_count": 12,
   "metadata": {
    "collapsed": false
   },
   "outputs": [],
   "source": [
    "# Getting rid of outliers outside of 3 standard deviations\n",
    "# and Plotting the Histogram\n",
    "\n",
    "# fig = sites[~((sites-sites.mean()).abs()>3*sites.std())].hist(bins=100, \n",
    "#                                                           figsize=(8, 6),\n",
    "#                                                           color=\"steelblue\")\n",
    "# plt.suptitle(\"Weather Normalized Site EUI Histogram\", size=18)\n",
    "# plt.xlabel(\"WN Site EUI\", size=14)\n",
    "# plt.ylabel(\"Number of Buildings\", size=14)\n",
    "# plt.savefig(\"Data and Visualizations/6a - WN Site EUI Histogram.png\")"
   ]
  },
  {
   "cell_type": "code",
   "execution_count": 13,
   "metadata": {
    "collapsed": false
   },
   "outputs": [],
   "source": [
    "# Plotting the Box and Whisker for Site EUI\n",
    "\n",
    "# bp = df.boxplot(column=['Weather Normalized Site EUI (kBtu/ft2)'], \n",
    "#                 by=['Primary Property Type Category - Reduced'],\n",
    "#                 figsize=(8, 6))\n",
    "# plt.suptitle(\"WN Site EUI Boxplots Grouped by Primary Property Type\", size=16)\n",
    "# plt.title(\"\")\n",
    "# plt.ylim(0,800)\n",
    "# plt.xticks(rotation=50)\n",
    "# plt.ylabel(\"Weather Normalized Site EUI\", size=14)\n",
    "# plt.xlabel(\"Primary Property Type\", size=14)\n",
    "# plt.savefig(\"Data and Visualizations/6b - WN Source EUI Boxplots.png\")"
   ]
  },
  {
   "cell_type": "markdown",
   "metadata": {},
   "source": [
    "#### 5 - WN source EUI distribution with Custom Bins"
   ]
  },
  {
   "cell_type": "code",
   "execution_count": 15,
   "metadata": {
    "collapsed": false,
    "scrolled": true
   },
   "outputs": [],
   "source": [
    "# Binning\n",
    "bins = list(range(0, 701, 50))\n",
    "bins.append(9000)\n",
    "labels = ['0-50', '51-100', '101-150', '151-200', '201-250', \n",
    "          '251-300', '301-350', '351-400', '401-450', '451-500', \n",
    "          '501-550', '551-600','601-650', '651-700', '700+']\n",
    "source_eui_binned = pd.cut(sources, bins, labels=labels)\n",
    "column_label = 'source_eui_binned'\n",
    "df[column_label] = source_eui_binned\n",
    "\n",
    "# Grouped by Source EUI bin only\n",
    "source_eui_counts = df[[column_label, 'Include in Data Analysis']].groupby(\n",
    "    'source_eui_binned').count()\n",
    "\n",
    "# Writing to csv & plotting\n",
    "source_eui_counts.to_csv('Data and Visualizations/5 - WN source EUI distribution.csv')\n",
    "\n",
    "# source_eui_counts.plot.bar(legend=False, \n",
    "#                            title=\"Source EUI Histogram\", \n",
    "#                            color=\"steelblue\",\n",
    "#                            width=1,\n",
    "#                            rot=60)\n",
    "\n",
    "# Grouped by Source EUI bin and Property Type, writing to csv\n",
    "source_eui_binned_by_proptype = df[[column_label, \n",
    "    'Primary Property Type Category - Reduced', \n",
    "    'Include in Data Analysis']\n",
    "  ].groupby(['Primary Property Type Category - Reduced', \n",
    "             column_label]).count()\n",
    "source_eui_binned_by_proptype.to_csv('Data and Visualizations/5 - WN source EUI distribution by prop type.csv')"
   ]
  },
  {
   "cell_type": "markdown",
   "metadata": {},
   "source": [
    "#### 6 - WN site EUI distribution with Custom Bins"
   ]
  },
  {
   "cell_type": "code",
   "execution_count": 14,
   "metadata": {
    "collapsed": false
   },
   "outputs": [],
   "source": [
    "# Binning\n",
    "bins = list(range(0, 401, 25))\n",
    "bins.append(2000)\n",
    "column_label = 'site_eui_binned'\n",
    "labels = ['0-25', '26-50', '51-75', '75-100', '101-125', '125-150',\n",
    "          '151-175', '176-200', '201-225', '226-250', '251-275', \n",
    "          '276-300', '301-325', '326-350', '351-375', '375-400',\n",
    "         '401+']\n",
    "site_eui_binned = pd.cut(sites, bins, labels=labels)\n",
    "df[column_label] = site_eui_binned\n",
    "\n",
    "# Grouped by Source EUI bin only\n",
    "site_eui_counts = df[[column_label, 'Include in Data Analysis']\n",
    "                    ].groupby(column_label).count()\n",
    "\n",
    "# Writing to csv, and plotting\n",
    "\n",
    "site_eui_counts.to_csv('Data and Visualizations/6 - WN site EUI distribution.csv')\n",
    "# site_eui_counts.plot.bar(legend=False, \n",
    "#                          title=\"Site EUI Histogram\", \n",
    "#                          color=\"steelblue\",\n",
    "#                          width=1,\n",
    "#                          rot=60)\n",
    "\n",
    "# Grouped by Site EUI bin and Property Type, writing to csv\n",
    "df[[column_label, \n",
    "    'Primary Property Type Category - Reduced', \n",
    "    'Include in Data Analysis']\n",
    "  ].groupby(\n",
    "        ['Primary Property Type Category - Reduced', 'site_eui_binned']\n",
    "        ).count().to_csv('Data and Visualizations/6 - WN site EUI distribution by prop type.csv')"
   ]
  },
  {
   "cell_type": "markdown",
   "metadata": {},
   "source": [
    "### Analysis 8\n",
    "Number of Buildings by Decade by Property Type\n",
    " - Barplot"
   ]
  },
  {
   "cell_type": "code",
   "execution_count": 11,
   "metadata": {
    "collapsed": false
   },
   "outputs": [],
   "source": [
    "# Aggregating decades 1880 and earlier\n",
    "df['Decade of Construction'].replace(\n",
    "    to_replace=['1880', '1870', '1860', '1840'], \n",
    "    value='Before 1890', inplace=True)\n",
    "\n",
    "# Grouping by Property Type then Decade\n",
    "propType_decade = df.groupby(\n",
    "    ['Primary Property Type Category - Reduced', \n",
    "     'Decade of Construction']).count()\n",
    "\n",
    "# Not Grouped by Property Type\n",
    "decade = df.groupby('Decade of Construction').count()\n",
    "\n",
    "# Re-ordering indexes numerically\n",
    "propType_decade.sort_index()\n",
    "index = decade.index.tolist()\n",
    "reindex = index[-1:] + index[:-1]\n",
    "decade = decade.reindex(reindex)\n",
    "\n",
    "# Writing to CSV\n",
    "propType_decade.iloc[:, 0:1].to_csv(\n",
    "    'Data and Visualizations/8 - Decade Built by Property Type.csv')\n",
    "decade.to_csv(\"Data and Visualizations/8 - Decade Built.csv\")"
   ]
  },
  {
   "cell_type": "code",
   "execution_count": 16,
   "metadata": {
    "collapsed": false
   },
   "outputs": [],
   "source": [
    "# Plotting Number of Buildings Built by Decade\n",
    "\n",
    "# decade['Include in Data Analysis'].plot(\n",
    "#     kind='bar', \n",
    "#     title ='Building Counts by Decade of Construction', \n",
    "#     color=\"steelblue\", figsize=(8, 6))\n",
    "# plt.xticks(rotation=50)"
   ]
  },
  {
   "cell_type": "markdown",
   "metadata": {},
   "source": [
    "### Analysis 7\n",
    "Median Source EUI, Year Built, and GFA by Property Type"
   ]
  },
  {
   "cell_type": "code",
   "execution_count": 13,
   "metadata": {
    "collapsed": false
   },
   "outputs": [],
   "source": [
    "# 7 Part A Median WN Source EUI by Property Type\n",
    "median_proptype_sourceEUI = df[\n",
    "    ['Weather Normalized Source EUI (kBtu/ft2)', \n",
    "     'Primary Property Type Category - Reduced']\n",
    "        ].groupby('Primary Property Type Category - Reduced').median()\n",
    "median_proptype_sourceEUI.to_csv('Data and Visualizations/7a-Median_Source_EUI_by_PropertyType.csv')"
   ]
  },
  {
   "cell_type": "code",
   "execution_count": 14,
   "metadata": {
    "collapsed": false
   },
   "outputs": [],
   "source": [
    "# 7 Part B Median Year Built by Property Type\n",
    "median_proptype_yearBuilt = df[\n",
    "    ['Year Built', \n",
    "     'Primary Property Type Category - Reduced']\n",
    "        ].groupby('Primary Property Type Category - Reduced').median()\n",
    "median_proptype_yearBuilt.to_csv('Data and Visualizations/7b-Median_YearBuilt_by_PropertyType.csv')"
   ]
  },
  {
   "cell_type": "code",
   "execution_count": 15,
   "metadata": {
    "collapsed": false
   },
   "outputs": [],
   "source": [
    "# 7 Part C Total Floor Area by Property Type \n",
    "df['Property GFA - EPA Calculated (Buildings) (ft2)']= pd.to_numeric(\n",
    "    df['Property GFA - EPA Calculated (Buildings) (ft2)'])\n",
    "total_GFA_by_proptype = df[\n",
    "    ['Property GFA - EPA Calculated (Buildings) (ft2)', \n",
    "     'Primary Property Type Category - Reduced']\n",
    "        ].groupby('Primary Property Type Category - Reduced').sum()\n",
    "total_GFA_by_proptype.to_csv(\"Data and Visualizations/7c-Total_GFA_by_PropertyType.csv\")"
   ]
  },
  {
   "cell_type": "markdown",
   "metadata": {},
   "source": [
    "### Analysis 10\n",
    "Median Site and Source EUI by Decade"
   ]
  },
  {
   "cell_type": "code",
   "execution_count": 16,
   "metadata": {
    "collapsed": false
   },
   "outputs": [],
   "source": [
    "Median_Site_Source_EUI_by_Decade = df[\n",
    "    ['Decade of Construction', \n",
    "     'Weather Normalized Source EUI (kBtu/ft2)', \n",
    "     'Weather Normalized Site EUI (kBtu/ft2)']\n",
    "        ].groupby('Decade of Construction').median()\n",
    "Median_Site_Source_EUI_by_Decade.to_csv('Data and Visualizations/10-Median_Site_and_Source_EUI_by_Decade.csv')"
   ]
  },
  {
   "cell_type": "code",
   "execution_count": 17,
   "metadata": {
    "collapsed": false
   },
   "outputs": [
    {
     "data": {
      "text/plain": [
       "count       2259.000000\n",
       "mean      263503.206817\n",
       "std       424274.589018\n",
       "min        50000.000000\n",
       "25%        77442.500000\n",
       "50%       131462.000000\n",
       "75%       277948.000000\n",
       "max      9245333.000000\n",
       "Name: Property GFA - EPA Calculated (Buildings) (ft2), dtype: float64"
      ]
     },
     "execution_count": 17,
     "metadata": {},
     "output_type": "execute_result"
    }
   ],
   "source": [
    "GFA_bins = list(range(0, 4000000, 250000))\n",
    "GFA_bins.append(10000000)\n",
    "df['Property GFA - EPA Calculated (Buildings) (ft2)'].describe()"
   ]
  },
  {
   "cell_type": "markdown",
   "metadata": {},
   "source": [
    "### Analysis 12\n",
    "Median EUI vs Size (binned by GFA)"
   ]
  },
  {
   "cell_type": "code",
   "execution_count": 18,
   "metadata": {
    "collapsed": false
   },
   "outputs": [],
   "source": [
    "#12 - Median EUI vs Size (binned by GFA)\n",
    "df['GFA_bins'] = pd.cut(df[\n",
    "        'Property GFA - EPA Calculated (Buildings) (ft2)'], GFA_bins)\n",
    "source_and_site_EUI_by_propsize = df[[\n",
    "        'GFA_bins', 'Weather Normalized Source EUI (kBtu/ft2)', \n",
    "        'Weather Normalized Site EUI (kBtu/ft2)']].groupby('GFA_bins').median()\n",
    "source_and_site_EUI_by_propsize.to_csv(\"Data and Visualizations/12 - Median EUI vs Size.csv\")"
   ]
  },
  {
   "cell_type": "markdown",
   "metadata": {},
   "source": [
    "### Analysis 13 \n",
    "Site and Source EUI vs Size (not-binned)\n"
   ]
  },
  {
   "cell_type": "code",
   "execution_count": 19,
   "metadata": {
    "collapsed": false
   },
   "outputs": [],
   "source": [
    "site_source_EU_vs_size = df[[\n",
    "        'Weather Normalized Source EUI (kBtu/ft2)', \n",
    "        'Weather Normalized Site EUI (kBtu/ft2)', \n",
    "        'Property GFA - EPA Calculated (Buildings) (ft2)']]\n",
    "site_source_EU_vs_size.to_csv(\"Data and Visualizations/13 - EUI vs Size scatter plot.csv\")"
   ]
  },
  {
   "cell_type": "markdown",
   "metadata": {},
   "source": [
    "### Analysis 14\n",
    "Median site and source EUI by secondary space use"
   ]
  },
  {
   "cell_type": "code",
   "execution_count": 20,
   "metadata": {
    "collapsed": true
   },
   "outputs": [],
   "source": [
    "site_source_EU_vs_secondary = df[[\n",
    "        'Weather Normalized Source EUI (kBtu/ft2)', \n",
    "        'Weather Normalized Site EUI (kBtu/ft2)', \n",
    "        '% of Floor Area Occupied by Additional Space Use Types (Percentage)']]\n",
    "\n",
    "site_source_EU_vs_secondary.to_csv(\"Data and Visualizations/14 - EUI vs secondary space use.csv\")"
   ]
  },
  {
   "cell_type": "markdown",
   "metadata": {},
   "source": [
    "### Analyses 16 & 17\n",
    "Weather Normalized Site and Source EUI "
   ]
  },
  {
   "cell_type": "code",
   "execution_count": 17,
   "metadata": {
    "collapsed": false
   },
   "outputs": [],
   "source": [
    "# df['Weather Normalized Site EUI (kBtu/ft2)'].plot.box(whis=100, figsize=(8, 6))\n",
    "# plt.title('Weather Normalized Site EUI Boxplot')"
   ]
  },
  {
   "cell_type": "code",
   "execution_count": 18,
   "metadata": {
    "collapsed": false,
    "scrolled": true
   },
   "outputs": [],
   "source": [
    "# df['Weather Normalized Source EUI (kBtu/ft2)'].plot.box(whis=100, figsize=(8, 6))\n",
    "# plt.title('Weather Normalized Source EUI Boxplot')"
   ]
  },
  {
   "cell_type": "code",
   "execution_count": 19,
   "metadata": {
    "collapsed": false
   },
   "outputs": [],
   "source": [
    "# df['Weather Normalized Source EUI (kBtu/ft2)'].describe()"
   ]
  },
  {
   "cell_type": "code",
   "execution_count": null,
   "metadata": {
    "collapsed": true
   },
   "outputs": [],
   "source": []
  }
 ],
 "metadata": {
  "kernelspec": {
   "display_name": "Python 3",
   "language": "python",
   "name": "python3"
  },
  "language_info": {
   "codemirror_mode": {
    "name": "ipython",
    "version": 3
   },
   "file_extension": ".py",
   "mimetype": "text/x-python",
   "name": "python",
   "nbconvert_exporter": "python",
   "pygments_lexer": "ipython3",
   "version": "3.5.1"
  }
 },
 "nbformat": 4,
 "nbformat_minor": 0
}
