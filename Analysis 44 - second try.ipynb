{
 "cells": [
  {
   "cell_type": "code",
   "execution_count": 70,
   "metadata": {
    "collapsed": true
   },
   "outputs": [],
   "source": [
    "import csv\n",
    "import pandas as pd"
   ]
  },
  {
   "cell_type": "code",
   "execution_count": 71,
   "metadata": {
    "collapsed": true
   },
   "outputs": [],
   "source": [
    "df = pd.read_csv(\"Analyses/Combined 2016 2015 2014.csv\", encoding = 'iso-8859-1')"
   ]
  },
  {
   "cell_type": "code",
   "execution_count": 72,
   "metadata": {
    "collapsed": false
   },
   "outputs": [],
   "source": [
    "#makes all data numeric except for proterty type\n",
    "for col in df:\n",
    "    if col == 'Primary Property Type Category - Reduced':\n",
    "        pass\n",
    "    else:\n",
    "        df[col] = pd.to_numeric(df[col], errors = 'coerce')"
   ]
  },
  {
   "cell_type": "code",
   "execution_count": 73,
   "metadata": {
    "collapsed": false
   },
   "outputs": [],
   "source": [
    "#creates dataframe of buildings that reported in both 2014 and 2015\n",
    "#cuts out unnecessary middle columns from df14_15\n",
    "len(df14_15.columns)\n",
    "df14_15 = df[(df['2014 Analyze'] == 1) & (df['2015 Analyze'] == 1)]\n",
    "total = list(range(len(df14_15.columns)))\n",
    "col_range = [0, 1] + total[6:]\n",
    "col_range\n",
    "df14_15 = df14_15.iloc[:,col_range]"
   ]
  },
  {
   "cell_type": "code",
   "execution_count": 74,
   "metadata": {
    "collapsed": false
   },
   "outputs": [],
   "source": [
    "#creates dataframe of buildings that reported in both 2015 and 2016\n",
    "df15_16 = df[(df['2015 Analyze'] == 1) & (df['Include in Data Analysis'] == 1)]\n",
    "df15_16 = df15_16.iloc[:,:10]"
   ]
  },
  {
   "cell_type": "code",
   "execution_count": 75,
   "metadata": {
    "collapsed": false
   },
   "outputs": [],
   "source": [
    "#Analyzes ENERGY STAR score, WN site EUI, and WN source EUI by building type category\n",
    "results14_15 = df14_15.iloc[:,[1,3,4,5,7,8,9]].groupby('Primary Property Type Category - Reduced').median()\n",
    "results15_16 = df15_16.iloc[:,[1,3,4,5,7,8,9]].groupby('Primary Property Type Category - Reduced').median()"
   ]
  },
  {
   "cell_type": "code",
   "execution_count": 76,
   "metadata": {
    "collapsed": true
   },
   "outputs": [],
   "source": [
    "#exports results\n",
    "results14_15.to_csv('Analysis_44_2014_15.csv')\n",
    "results15_16.to_csv('Analysis_44_2015_16.csv')"
   ]
  },
  {
   "cell_type": "code",
   "execution_count": null,
   "metadata": {
    "collapsed": true
   },
   "outputs": [],
   "source": []
  }
 ],
 "metadata": {
  "kernelspec": {
   "display_name": "Python 3",
   "language": "python",
   "name": "python3"
  },
  "language_info": {
   "codemirror_mode": {
    "name": "ipython",
    "version": 3
   },
   "file_extension": ".py",
   "mimetype": "text/x-python",
   "name": "python",
   "nbconvert_exporter": "python",
   "pygments_lexer": "ipython3",
   "version": "3.5.1"
  }
 },
 "nbformat": 4,
 "nbformat_minor": 0
}
