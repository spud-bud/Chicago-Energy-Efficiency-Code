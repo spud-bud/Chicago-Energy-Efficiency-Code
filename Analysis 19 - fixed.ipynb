{
 "cells": [
  {
   "cell_type": "code",
   "execution_count": 87,
   "metadata": {
    "collapsed": true
   },
   "outputs": [],
   "source": [
    "import csv\n",
    "import pandas as pd"
   ]
  },
  {
   "cell_type": "code",
   "execution_count": 88,
   "metadata": {
    "collapsed": false
   },
   "outputs": [],
   "source": [
    "df = pd.read_csv('Analyses/Final Data.csv', encoding = 'iso-8859-1')"
   ]
  },
  {
   "cell_type": "code",
   "execution_count": 89,
   "metadata": {
    "collapsed": true
   },
   "outputs": [],
   "source": [
    "df = df[df['Include in Data Analysis'] == 1]"
   ]
  },
  {
   "cell_type": "code",
   "execution_count": 90,
   "metadata": {
    "collapsed": false
   },
   "outputs": [],
   "source": [
    "df['ENERGY STAR Score'] = pd.to_numeric(df['ENERGY STAR Score'], errors = 'coerce')\n",
    "df['Property GFA - EPA Calculated (Buildings) (ft2)'] = pd.to_numeric(df['Property GFA - EPA Calculated (Buildings) (ft2)'], errors = 'coerce')"
   ]
  },
  {
   "cell_type": "code",
   "execution_count": 91,
   "metadata": {
    "collapsed": true
   },
   "outputs": [],
   "source": [
    "#creates df of buildings that received ENERGY STAR score\n",
    "received_score = df[df['ENERGY STAR Score'] > 0]"
   ]
  },
  {
   "cell_type": "code",
   "execution_count": 92,
   "metadata": {
    "collapsed": false
   },
   "outputs": [],
   "source": [
    "#creates df of buildings that didn't receive an ENERGY STAR score\n",
    "not_received_score = df[df['ENERGY STAR Score'].isnull()]"
   ]
  },
  {
   "cell_type": "code",
   "execution_count": 93,
   "metadata": {
    "collapsed": false
   },
   "outputs": [],
   "source": [
    "received_floor_sum = (received_score[['Primary Property Type Category - Reduced', 'Property GFA - EPA Calculated (Buildings) (ft2)']]\n",
    "                      .groupby('Primary Property Type Category - Reduced').sum()\n",
    "                      )"
   ]
  },
  {
   "cell_type": "code",
   "execution_count": 94,
   "metadata": {
    "collapsed": true
   },
   "outputs": [],
   "source": [
    "not_received_floor_sum = (not_received_score[['Primary Property Type Category - Reduced', 'Property GFA - EPA Calculated (Buildings) (ft2)']]\n",
    "                          .groupby('Primary Property Type Category - Reduced').sum()\n",
    "                          )"
   ]
  },
  {
   "cell_type": "code",
   "execution_count": 95,
   "metadata": {
    "collapsed": true
   },
   "outputs": [],
   "source": [
    "received_count = (received_score[['Primary Property Type Category - Reduced', 'Updated Chicago Energy Benchmarking ID']]\n",
    "                  .groupby('Primary Property Type Category - Reduced').count()\n",
    "                 )"
   ]
  },
  {
   "cell_type": "code",
   "execution_count": 96,
   "metadata": {
    "collapsed": false
   },
   "outputs": [],
   "source": [
    "not_received_count = (not_received_score[['Primary Property Type Category - Reduced', 'Updated Chicago Energy Benchmarking ID']]\n",
    "                  .groupby('Primary Property Type Category - Reduced').count()\n",
    "                 )"
   ]
  },
  {
   "cell_type": "code",
   "execution_count": 98,
   "metadata": {
    "collapsed": false
   },
   "outputs": [],
   "source": [
    "with open('analysis_19_sums.csv', 'w') as handle:\n",
    "    received_floor_sum.to_csv(handle)\n",
    "    not_received_floor_sum.to_csv(handle)\n",
    "    received_count.to_csv(handle)\n",
    "    not_received_count.to_csv(handle)"
   ]
  },
  {
   "cell_type": "code",
   "execution_count": null,
   "metadata": {
    "collapsed": true
   },
   "outputs": [],
   "source": []
  }
 ],
 "metadata": {
  "kernelspec": {
   "display_name": "Python 3",
   "language": "python",
   "name": "python3"
  },
  "language_info": {
   "codemirror_mode": {
    "name": "ipython",
    "version": 3
   },
   "file_extension": ".py",
   "mimetype": "text/x-python",
   "name": "python",
   "nbconvert_exporter": "python",
   "pygments_lexer": "ipython3",
   "version": "3.5.1"
  }
 },
 "nbformat": 4,
 "nbformat_minor": 0
}
