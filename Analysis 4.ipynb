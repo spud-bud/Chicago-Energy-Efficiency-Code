{
 "cells": [
  {
   "cell_type": "code",
   "execution_count": 4,
   "metadata": {
    "collapsed": false,
    "scrolled": true
   },
   "outputs": [],
   "source": [
    "import csv\n",
    "from math import fsum\n",
    "from statistics import median\n",
    "import efficiency_functions"
   ]
  },
  {
   "cell_type": "code",
   "execution_count": 5,
   "metadata": {
    "collapsed": true
   },
   "outputs": [],
   "source": [
    "file_name = \"Final Data.csv\"\n",
    "with open(file_name, 'r') as f:\n",
    "\treader = csv.reader(f)\n",
    "\tfile = (list(reader))"
   ]
  },
  {
   "cell_type": "code",
   "execution_count": 6,
   "metadata": {
    "collapsed": true
   },
   "outputs": [],
   "source": [
    "columns = file[0]\n",
    "rows = file[1:]"
   ]
  },
  {
   "cell_type": "code",
   "execution_count": 7,
   "metadata": {
    "collapsed": false
   },
   "outputs": [],
   "source": [
    "building_categories = ['Healthcare', 'K-12 school', 'Lodging', 'Mutifamily Housing', 'Office', 'Other', 'Retail ', 'University']\n",
    "cat_dict = {}\n",
    "\n",
    "for cat in building_categories:\n",
    "    data = []\n",
    "    for row in rows:\n",
    "        if row[2] == '1':\n",
    "            if row[columns.index('Primary Property Type Category - Reduced')] == cat:\n",
    "                data.append(row)\n",
    "    cat_dict[cat] = data"
   ]
  },
  {
   "cell_type": "code",
   "execution_count": 8,
   "metadata": {
    "collapsed": false
   },
   "outputs": [
    {
     "name": "stdout",
     "output_type": "stream",
     "text": [
      "Number of Healthcare buildings is 46\n",
      "Number of K-12 school buildings is 381\n",
      "Number of Lodging buildings is 127\n",
      "Number of Mutifamily Housing buildings is 1019\n",
      "Number of Office buildings is 312\n",
      "Number of Other buildings is 139\n",
      "Number of Retail  buildings is 136\n",
      "Number of University buildings is 99\n"
     ]
    }
   ],
   "source": [
    "# Gives number of buildings\n",
    "for cat in building_categories:\n",
    "    print('Number of ' + cat + ' buildings is', len(cat_dict[cat]))"
   ]
  },
  {
   "cell_type": "code",
   "execution_count": 9,
   "metadata": {
    "collapsed": false
   },
   "outputs": [],
   "source": [
    "# Lists of what we need to sum and find the median of:\n",
    "columns_to_sum = ['Property GFA - EPA Calculated (Buildings and Parking) (ft2)', 'Property GFA - EPA Calculated (Buildings) (ft2)', \\\n",
    "                  'Property GFA - EPA Calculated (Parking) (ft2)', 'Weather Normalized Site Energy Use (kBtu)', \\\n",
    "                  'Weather Normalized Source Energy Use (kBtu)', 'Total GHG Emissions (Metric Tons CO2e)']\n",
    "columns_to_median = ['Property GFA - EPA Calculated (Buildings) (ft2)', 'Weather Normalized Site Energy Use (kBtu)', \\\n",
    "                  'Weather Normalized Source Energy Use (kBtu)', 'Weather Normalized Site EUI (kBtu/ft2)', \\\n",
    "                     'Weather Normalized Source EUI (kBtu/ft2)', 'ENERGY STAR Score']\n",
    "# Removed \"ENERGY STAR score\" from median list for universities because no universities have ENERGY STAR scores.\n",
    "university_columns_to_median = ['Property GFA - EPA Calculated (Buildings) (ft2)', 'Weather Normalized Site Energy Use (kBtu)', \\\n",
    "                  'Weather Normalized Source Energy Use (kBtu)', 'Weather Normalized Site EUI (kBtu/ft2)', \\\n",
    "                     'Weather Normalized Source EUI (kBtu/ft2)']\n",
    "\n",
    "empties = [{}, {}, {}, {}, {}, {}, {}, {}]\n",
    "dicts_to_use = dict(zip(building_categories, empties))\n",
    "\n",
    "# Calculates sums and medians for Healthcare buildings\n",
    "def sum_and_median(columns_to_sum, columns_to_median, column):\n",
    "    for col in columns_to_sum:\n",
    "        col_data = efficiency_functions.data_sum(col, cat_dict[column], dicts_to_use[column])\n",
    "        \n",
    "    for col in columns_to_median:\n",
    "        col_data = efficiency_functions.data_median(col, cat_dict[column], col_data)\n",
    "        \n",
    "    return col_data\n",
    "\n",
    "final_results = {}\n",
    "for column in building_categories:\n",
    "    if column != 'University':\n",
    "        final_results[column] = sum_and_median(columns_to_sum, columns_to_median, column)\n",
    "    else:\n",
    "        final_results[column] = sum_and_median(columns_to_sum, university_columns_to_median, column)"
   ]
  },
  {
   "cell_type": "code",
   "execution_count": 10,
   "metadata": {
    "collapsed": false
   },
   "outputs": [
    {
     "data": {
      "text/plain": [
       "{'Healthcare': {'ENERGY STAR Score median': 41.0,\n",
       "  'Property GFA - EPA Calculated (Buildings and Parking) (ft2) total': 29011493.3,\n",
       "  'Property GFA - EPA Calculated (Buildings) (ft2) median': 329896.0,\n",
       "  'Property GFA - EPA Calculated (Buildings) (ft2) total': 23442781.3,\n",
       "  'Property GFA - EPA Calculated (Parking) (ft2) total': 5568712.0,\n",
       "  'Total GHG Emissions (Metric Tons CO2e) total': 598715.3,\n",
       "  'Weather Normalized Site EUI (kBtu/ft2) median': 190.3,\n",
       "  'Weather Normalized Site Energy Use (kBtu) median': 65243851.5,\n",
       "  'Weather Normalized Site Energy Use (kBtu) total': 5112700804.7,\n",
       "  'Weather Normalized Source EUI (kBtu/ft2) median': 394.3,\n",
       "  'Weather Normalized Source Energy Use (kBtu) median': 131256934.3,\n",
       "  'Weather Normalized Source Energy Use (kBtu) total': 9971161209.4},\n",
       " 'K-12 school': {'ENERGY STAR Score median': 59.0,\n",
       "  'Property GFA - EPA Calculated (Buildings and Parking) (ft2) total': 46604264.0,\n",
       "  'Property GFA - EPA Calculated (Buildings) (ft2) median': 97862.0,\n",
       "  'Property GFA - EPA Calculated (Buildings) (ft2) total': 45927266.0,\n",
       "  'Property GFA - EPA Calculated (Parking) (ft2) total': 676998.0,\n",
       "  'Total GHG Emissions (Metric Tons CO2e) total': 365775.4,\n",
       "  'Weather Normalized Site EUI (kBtu/ft2) median': 74.2,\n",
       "  'Weather Normalized Site Energy Use (kBtu) median': 7085041.95,\n",
       "  'Weather Normalized Site Energy Use (kBtu) total': 3435479490.1,\n",
       "  'Weather Normalized Source EUI (kBtu/ft2) median': 132.45,\n",
       "  'Weather Normalized Source Energy Use (kBtu) median': 12791720.45,\n",
       "  'Weather Normalized Source Energy Use (kBtu) total': 6308648262.4},\n",
       " 'Lodging': {'ENERGY STAR Score median': 36.0,\n",
       "  'Property GFA - EPA Calculated (Buildings and Parking) (ft2) total': 33904767.2,\n",
       "  'Property GFA - EPA Calculated (Buildings) (ft2) median': 120000.0,\n",
       "  'Property GFA - EPA Calculated (Buildings) (ft2) total': 32771532.2,\n",
       "  'Property GFA - EPA Calculated (Parking) (ft2) total': 1133235.0,\n",
       "  'Total GHG Emissions (Metric Tons CO2e) total': 452234.9,\n",
       "  'Weather Normalized Site EUI (kBtu/ft2) median': 116.80000000000001,\n",
       "  'Weather Normalized Site Energy Use (kBtu) median': 13733146.55,\n",
       "  'Weather Normalized Site Energy Use (kBtu) total': 3929293950.7,\n",
       "  'Weather Normalized Source EUI (kBtu/ft2) median': 222.65,\n",
       "  'Weather Normalized Source Energy Use (kBtu) median': 27826208.75,\n",
       "  'Weather Normalized Source Energy Use (kBtu) total': 7517688813.6},\n",
       " 'Mutifamily Housing': {'ENERGY STAR Score median': 55.0,\n",
       "  'Property GFA - EPA Calculated (Buildings and Parking) (ft2) total': 264748481.5,\n",
       "  'Property GFA - EPA Calculated (Buildings) (ft2) median': 145694.0,\n",
       "  'Property GFA - EPA Calculated (Buildings) (ft2) total': 232103310.8,\n",
       "  'Property GFA - EPA Calculated (Parking) (ft2) total': 32645170.7,\n",
       "  'Total GHG Emissions (Metric Tons CO2e) total': 1897927.8,\n",
       "  'Weather Normalized Site EUI (kBtu/ft2) median': 84.15,\n",
       "  'Weather Normalized Site Energy Use (kBtu) median': 11952858.5,\n",
       "  'Weather Normalized Site Energy Use (kBtu) total': 18956684169.9,\n",
       "  'Weather Normalized Source EUI (kBtu/ft2) median': 137.64999999999998,\n",
       "  'Weather Normalized Source Energy Use (kBtu) median': 20037775.3,\n",
       "  'Weather Normalized Source Energy Use (kBtu) total': 32679654940.0},\n",
       " 'Office': {'ENERGY STAR Score median': 79.0,\n",
       "  'Property GFA - EPA Calculated (Buildings and Parking) (ft2) total': 169018760.0,\n",
       "  'Property GFA - EPA Calculated (Buildings) (ft2) median': 252038.0,\n",
       "  'Property GFA - EPA Calculated (Buildings) (ft2) total': 158501223.0,\n",
       "  'Property GFA - EPA Calculated (Parking) (ft2) total': 10568667.0,\n",
       "  'Total GHG Emissions (Metric Tons CO2e) total': 1945924.9,\n",
       "  'Weather Normalized Site EUI (kBtu/ft2) median': 79.69999999999999,\n",
       "  'Weather Normalized Site Energy Use (kBtu) median': 23802216.65,\n",
       "  'Weather Normalized Site Energy Use (kBtu) total': 12543817594.7,\n",
       "  'Weather Normalized Source EUI (kBtu/ft2) median': 189.5,\n",
       "  'Weather Normalized Source Energy Use (kBtu) median': 51735991.55,\n",
       "  'Weather Normalized Source Energy Use (kBtu) total': 32154063517.0},\n",
       " 'Other': {'ENERGY STAR Score median': 67.0,\n",
       "  'Property GFA - EPA Calculated (Buildings and Parking) (ft2) total': 69030363.4,\n",
       "  'Property GFA - EPA Calculated (Buildings) (ft2) median': 137000.0,\n",
       "  'Property GFA - EPA Calculated (Buildings) (ft2) total': 59853218.4,\n",
       "  'Property GFA - EPA Calculated (Parking) (ft2) total': 9177145.0,\n",
       "  'Total GHG Emissions (Metric Tons CO2e) total': 888832.2,\n",
       "  'Weather Normalized Site EUI (kBtu/ft2) median': 114.55,\n",
       "  'Weather Normalized Site Energy Use (kBtu) median': 17802092.7,\n",
       "  'Weather Normalized Site Energy Use (kBtu) total': 7055852991.5,\n",
       "  'Weather Normalized Source EUI (kBtu/ft2) median': 232.25,\n",
       "  'Weather Normalized Source Energy Use (kBtu) median': 35929475.1,\n",
       "  'Weather Normalized Source Energy Use (kBtu) total': 15042751073.2},\n",
       " 'Retail ': {'ENERGY STAR Score median': 59.0,\n",
       "  'Property GFA - EPA Calculated (Buildings and Parking) (ft2) total': 25288088.9,\n",
       "  'Property GFA - EPA Calculated (Buildings) (ft2) median': 104953.0,\n",
       "  'Property GFA - EPA Calculated (Buildings) (ft2) total': 18002260.0,\n",
       "  'Property GFA - EPA Calculated (Parking) (ft2) total': 7285828.9,\n",
       "  'Total GHG Emissions (Metric Tons CO2e) total': 298253.8,\n",
       "  'Weather Normalized Site EUI (kBtu/ft2) median': 104.8,\n",
       "  'Weather Normalized Site Energy Use (kBtu) median': 13413903.3,\n",
       "  'Weather Normalized Site Energy Use (kBtu) total': 1936721301.0,\n",
       "  'Weather Normalized Source EUI (kBtu/ft2) median': 260.3,\n",
       "  'Weather Normalized Source Energy Use (kBtu) median': 33517322.4,\n",
       "  'Weather Normalized Source Energy Use (kBtu) total': 4495188862.9},\n",
       " 'University': {'Property GFA - EPA Calculated (Buildings and Parking) (ft2) total': 26624797.5,\n",
       "  'Property GFA - EPA Calculated (Buildings) (ft2) median': 134054.0,\n",
       "  'Property GFA - EPA Calculated (Buildings) (ft2) total': 24652152.5,\n",
       "  'Property GFA - EPA Calculated (Parking) (ft2) total': 1972645.0,\n",
       "  'Total GHG Emissions (Metric Tons CO2e) total': 353480.60000000003,\n",
       "  'Weather Normalized Site EUI (kBtu/ft2) median': 90.7,\n",
       "  'Weather Normalized Site Energy Use (kBtu) median': 12813864.0,\n",
       "  'Weather Normalized Site Energy Use (kBtu) total': 3100831750.3,\n",
       "  'Weather Normalized Source EUI (kBtu/ft2) median': 200.8,\n",
       "  'Weather Normalized Source Energy Use (kBtu) median': 28724396.3,\n",
       "  'Weather Normalized Source Energy Use (kBtu) total': 5971308738.0}}"
      ]
     },
     "execution_count": 10,
     "metadata": {},
     "output_type": "execute_result"
    }
   ],
   "source": [
    "final_results"
   ]
  },
  {
   "cell_type": "code",
   "execution_count": 11,
   "metadata": {
    "collapsed": false,
    "scrolled": false
   },
   "outputs": [
    {
     "data": {
      "text/plain": [
       "{'Property GFA - EPA Calculated (Buildings and Parking) (ft2) total': 26624797.5,\n",
       " 'Property GFA - EPA Calculated (Buildings) (ft2) median': 134054.0,\n",
       " 'Property GFA - EPA Calculated (Buildings) (ft2) total': 24652152.5,\n",
       " 'Property GFA - EPA Calculated (Parking) (ft2) total': 1972645.0,\n",
       " 'Total GHG Emissions (Metric Tons CO2e) total': 353480.60000000003,\n",
       " 'Weather Normalized Site EUI (kBtu/ft2) median': 90.7,\n",
       " 'Weather Normalized Site Energy Use (kBtu) median': 12813864.0,\n",
       " 'Weather Normalized Site Energy Use (kBtu) total': 3100831750.3,\n",
       " 'Weather Normalized Source EUI (kBtu/ft2) median': 200.8,\n",
       " 'Weather Normalized Source Energy Use (kBtu) median': 28724396.3,\n",
       " 'Weather Normalized Source Energy Use (kBtu) total': 5971308738.0}"
      ]
     },
     "execution_count": 11,
     "metadata": {},
     "output_type": "execute_result"
    }
   ],
   "source": [
    "final_results['University']"
   ]
  },
  {
   "cell_type": "code",
   "execution_count": 12,
   "metadata": {
    "collapsed": false
   },
   "outputs": [],
   "source": [
    "with open('Analysis_4_results.csv', 'w') as csvfile:\n",
    "    fieldnames = list(final_results['Healthcare'].keys())\n",
    "    writer = csv.DictWriter(csvfile, fieldnames=fieldnames, lineterminator = '\\n')\n",
    "\n",
    "    writer.writeheader()\n",
    "    for cat in building_categories:\n",
    "        writer.writerow(final_results[cat])"
   ]
  },
  {
   "cell_type": "code",
   "execution_count": null,
   "metadata": {
    "collapsed": true
   },
   "outputs": [],
   "source": []
  }
 ],
 "metadata": {
  "kernelspec": {
   "display_name": "Python 3",
   "language": "python",
   "name": "python3"
  },
  "language_info": {
   "codemirror_mode": {
    "name": "ipython",
    "version": 3
   },
   "file_extension": ".py",
   "mimetype": "text/x-python",
   "name": "python",
   "nbconvert_exporter": "python",
   "pygments_lexer": "ipython3",
   "version": "3.5.1"
  }
 },
 "nbformat": 4,
 "nbformat_minor": 0
}
