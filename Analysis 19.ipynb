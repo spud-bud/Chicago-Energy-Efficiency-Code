{
 "cells": [
  {
   "cell_type": "code",
   "execution_count": 1,
   "metadata": {
    "collapsed": true
   },
   "outputs": [],
   "source": [
    "import csv\n",
    "import pandas as pd\n",
    "import matplotlib as plt\n",
    "% matplotlib inline"
   ]
  },
  {
   "cell_type": "code",
   "execution_count": 2,
   "metadata": {
    "collapsed": true
   },
   "outputs": [],
   "source": [
    "df = pd.read_csv(\"Analyses/Final Data.csv\", encoding = 'iso-8859-1')\n",
    "df = df[df['Include in Data Analysis'] == 1]"
   ]
  },
  {
   "cell_type": "code",
   "execution_count": 22,
   "metadata": {
    "collapsed": true
   },
   "outputs": [],
   "source": [
    "df['Property GFA - EPA Calculated (Buildings) (ft2)'] = pd.to_numeric(df['Property GFA - EPA Calculated (Buildings) (ft2)'])"
   ]
  },
  {
   "cell_type": "code",
   "execution_count": 52,
   "metadata": {
    "collapsed": false
   },
   "outputs": [],
   "source": [
    "df['received_score'] = df['ENERGY STAR Score'] != 'Not Available'"
   ]
  },
  {
   "cell_type": "code",
   "execution_count": 56,
   "metadata": {
    "collapsed": false
   },
   "outputs": [
    {
     "data": {
      "text/html": [
       "<div>\n",
       "<table border=\"1\" class=\"dataframe\">\n",
       "  <thead>\n",
       "    <tr style=\"text-align: right;\">\n",
       "      <th></th>\n",
       "      <th>Include in Data Analysis</th>\n",
       "      <th>Property Id</th>\n",
       "      <th>Duplicate</th>\n",
       "      <th># of Space Use Types</th>\n",
       "      <th>Property GFA - EPA Calculated (Buildings) (ft2)</th>\n",
       "      <th>Year Built</th>\n",
       "      <th>Decade of Construction</th>\n",
       "      <th>Number of Buildings</th>\n",
       "      <th>Occupancy</th>\n",
       "      <th>2nd Largest Property Use - Gross Floor Area (ft2)</th>\n",
       "      <th>...</th>\n",
       "      <th>Verifier Company (if available)</th>\n",
       "      <th>Municipal Property</th>\n",
       "      <th>National Median ENERGY STAR Score</th>\n",
       "      <th>ENERGY STAR Certification: 2015 or 2016</th>\n",
       "      <th>LEED Certified?</th>\n",
       "      <th>2016 Outlier</th>\n",
       "      <th>Reported in 2014</th>\n",
       "      <th>Outlier in 2014</th>\n",
       "      <th>Reported in 2015</th>\n",
       "      <th>Outlier in 2015</th>\n",
       "    </tr>\n",
       "    <tr>\n",
       "      <th>received_score</th>\n",
       "      <th></th>\n",
       "      <th></th>\n",
       "      <th></th>\n",
       "      <th></th>\n",
       "      <th></th>\n",
       "      <th></th>\n",
       "      <th></th>\n",
       "      <th></th>\n",
       "      <th></th>\n",
       "      <th></th>\n",
       "      <th></th>\n",
       "      <th></th>\n",
       "      <th></th>\n",
       "      <th></th>\n",
       "      <th></th>\n",
       "      <th></th>\n",
       "      <th></th>\n",
       "      <th></th>\n",
       "      <th></th>\n",
       "      <th></th>\n",
       "      <th></th>\n",
       "    </tr>\n",
       "  </thead>\n",
       "  <tbody>\n",
       "    <tr>\n",
       "      <th>False</th>\n",
       "      <td>393</td>\n",
       "      <td>1676887805</td>\n",
       "      <td>0</td>\n",
       "      <td>802</td>\n",
       "      <td>107144820.9</td>\n",
       "      <td>770784</td>\n",
       "      <td>769150</td>\n",
       "      <td>752</td>\n",
       "      <td>37430</td>\n",
       "      <td>14487333.0</td>\n",
       "      <td>...</td>\n",
       "      <td>NaN</td>\n",
       "      <td>34</td>\n",
       "      <td>19650</td>\n",
       "      <td>1</td>\n",
       "      <td>32</td>\n",
       "      <td>0</td>\n",
       "      <td>NaN</td>\n",
       "      <td>NaN</td>\n",
       "      <td>NaN</td>\n",
       "      <td>NaN</td>\n",
       "    </tr>\n",
       "    <tr>\n",
       "      <th>True</th>\n",
       "      <td>1867</td>\n",
       "      <td>7971435046</td>\n",
       "      <td>0</td>\n",
       "      <td>3341</td>\n",
       "      <td>488246099.3</td>\n",
       "      <td>3661980</td>\n",
       "      <td>3653860</td>\n",
       "      <td>2498</td>\n",
       "      <td>180400</td>\n",
       "      <td>53467386.4</td>\n",
       "      <td>...</td>\n",
       "      <td>NaN</td>\n",
       "      <td>398</td>\n",
       "      <td>93350</td>\n",
       "      <td>126</td>\n",
       "      <td>163</td>\n",
       "      <td>0</td>\n",
       "      <td>NaN</td>\n",
       "      <td>NaN</td>\n",
       "      <td>NaN</td>\n",
       "      <td>NaN</td>\n",
       "    </tr>\n",
       "  </tbody>\n",
       "</table>\n",
       "<p>2 rows × 28 columns</p>\n",
       "</div>"
      ],
      "text/plain": [
       "                Include in Data Analysis  Property Id  Duplicate  \\\n",
       "received_score                                                     \n",
       "False                                393   1676887805          0   \n",
       "True                                1867   7971435046          0   \n",
       "\n",
       "                # of Space Use Types  \\\n",
       "received_score                         \n",
       "False                            802   \n",
       "True                            3341   \n",
       "\n",
       "                Property GFA - EPA Calculated (Buildings) (ft2)  Year Built  \\\n",
       "received_score                                                                \n",
       "False                                               107144820.9      770784   \n",
       "True                                                488246099.3     3661980   \n",
       "\n",
       "                Decade of Construction  Number of Buildings  Occupancy  \\\n",
       "received_score                                                           \n",
       "False                           769150                  752      37430   \n",
       "True                           3653860                 2498     180400   \n",
       "\n",
       "                2nd Largest Property Use - Gross Floor Area (ft2)  \\\n",
       "received_score                                                      \n",
       "False                                                  14487333.0   \n",
       "True                                                   53467386.4   \n",
       "\n",
       "                     ...         Verifier Company (if available)  \\\n",
       "received_score       ...                                           \n",
       "False                ...                                     NaN   \n",
       "True                 ...                                     NaN   \n",
       "\n",
       "                Municipal Property  National Median ENERGY STAR Score  \\\n",
       "received_score                                                          \n",
       "False                           34                              19650   \n",
       "True                           398                              93350   \n",
       "\n",
       "                ENERGY STAR Certification: 2015 or 2016  LEED Certified?  \\\n",
       "received_score                                                             \n",
       "False                                                 1               32   \n",
       "True                                                126              163   \n",
       "\n",
       "                2016 Outlier  Reported in 2014  Outlier in 2014  \\\n",
       "received_score                                                    \n",
       "False                      0               NaN              NaN   \n",
       "True                       0               NaN              NaN   \n",
       "\n",
       "                Reported in 2015  Outlier in 2015  \n",
       "received_score                                     \n",
       "False                        NaN              NaN  \n",
       "True                         NaN              NaN  \n",
       "\n",
       "[2 rows x 28 columns]"
      ]
     },
     "execution_count": 56,
     "metadata": {},
     "output_type": "execute_result"
    }
   ],
   "source": [
    "df.groupby('received_score').sum()"
   ]
  },
  {
   "cell_type": "code",
   "execution_count": null,
   "metadata": {
    "collapsed": true
   },
   "outputs": [],
   "source": []
  }
 ],
 "metadata": {
  "kernelspec": {
   "display_name": "Python 3",
   "language": "python",
   "name": "python3"
  },
  "language_info": {
   "codemirror_mode": {
    "name": "ipython",
    "version": 3
   },
   "file_extension": ".py",
   "mimetype": "text/x-python",
   "name": "python",
   "nbconvert_exporter": "python",
   "pygments_lexer": "ipython3",
   "version": "3.5.1"
  }
 },
 "nbformat": 4,
 "nbformat_minor": 0
}
