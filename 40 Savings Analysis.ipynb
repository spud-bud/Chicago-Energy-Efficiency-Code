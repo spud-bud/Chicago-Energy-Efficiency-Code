{
 "cells": [
  {
   "cell_type": "code",
   "execution_count": 1,
   "metadata": {
    "collapsed": false
   },
   "outputs": [],
   "source": [
    "import pandas as pd\n",
    "import warnings\n",
    "from pandas import ExcelWriter\n",
    "import csv\n",
    "\n",
    "warnings.simplefilter(action = \"ignore\")\n",
    "\n",
    "data = pd.read_csv(\"Final Data.csv\", encoding = \"iso-8859-1\")\n",
    "data = data[data['Include in Data Analysis'] == 1]\n",
    "\n",
    "to_numeric_list = ['Site EUI (kBtu/ft2)',\n",
    "                    'Site Energy Use (kBtu)',\n",
    "                    'Source Energy Use (kBtu)',\n",
    "                    'Source EUI (kBtu/ft2)',\n",
    "                    'Property GFA - EPA Calculated (Buildings) (ft2)',\n",
    "                   'Electricity Use - Grid Purchase and Generated from Onsite Renewable Systems (kWh)',\n",
    "                    'Natural Gas Use (kBtu)',\n",
    "                   'Total GHG Emissions (Metric Tons CO2e)']    \n",
    "        \n",
    "for col in data:\n",
    "    if col in to_numeric_list:\n",
    "        data[col] = pd.to_numeric(data[col], errors = 'coerce')\n",
    "    else:\n",
    "        pass"
   ]
  },
  {
   "cell_type": "code",
   "execution_count": 2,
   "metadata": {
    "collapsed": false
   },
   "outputs": [],
   "source": [
    "categories = list(set(data['Primary Property Type Category - Reduced']))\n",
    "epa_cat = list(set(data['Primary Property Type - EPA Calculated']))"
   ]
  },
  {
   "cell_type": "code",
   "execution_count": 3,
   "metadata": {
    "collapsed": false
   },
   "outputs": [
    {
     "data": {
      "text/plain": [
       "'\\n1. ReducedSiteEui = Difference between EUI and Median\\n2. TotalKBTUs = Multiply Difference by Gross Floor Area\\n3. PercentageReduction = Result from Step 2 / Site EUI (not weather normalized)\\n4. Ratio Between Source and Site Energy Use\\n5. Step 2 - reduction multiplied by Step 4 (tells you reduction in source energy use)\\n6. Reduction in Electricity - Takes percentage reduction (Step 3) and if not 0, multiplies by \\n        Electricy Grid Use Purchase and Generated from onsite renewable systems \\n        Multiplies percentage reduction by B31 - Conversion Rate/number for KWH per KBT - 0.293083 (constant)\\n7. Reduction in Natural Gas - Multiply Step 1 by Natural gas use KTBU\\n8. GHG reductions - Reduction EUI (Step 1) Times Total GHG emissions Metric Tons co2e\\n9. Reduction of 2% of EUI for top performers\\n'"
      ]
     },
     "execution_count": 3,
     "metadata": {},
     "output_type": "execute_result"
    }
   ],
   "source": [
    "'''\n",
    "1. ReducedSiteEui = Difference between EUI and Median\n",
    "2. TotalKBTUs = Multiply Difference by Gross Floor Area\n",
    "3. PercentageReduction = Result from Step 2 / Site EUI (not weather normalized)\n",
    "4. Ratio Between Source and Site Energy Use\n",
    "5. Step 2 - reduction multiplied by Step 4 (tells you reduction in source energy use)\n",
    "6. Reduction in Electricity - Takes percentage reduction (Step 3) and if not 0, multiplies by \n",
    "        Electricy Grid Use Purchase and Generated from onsite renewable systems \n",
    "        Multiplies percentage reduction by B31 - Conversion Rate/number for KWH per KBT - 0.293083 (constant)\n",
    "7. Reduction in Natural Gas - Multiply Step 1 by Natural gas use KTBU\n",
    "8. GHG reductions - Reduction EUI (Step 1) Times Total GHG emissions Metric Tons co2e\n",
    "9. Reduction of 2% of EUI for top performers\n",
    "'''"
   ]
  },
  {
   "cell_type": "code",
   "execution_count": 4,
   "metadata": {
    "collapsed": false
   },
   "outputs": [],
   "source": [
    "def calculate_reductions(df, identifier, to_twenty_fifth_percentile=False, top_quartile_reduce_2_perc=False):\n",
    "    '''\n",
    "    Inputs:\n",
    "        df = pandas dataframe containing data (subset by performance or property type, etc.)\n",
    "        identifier = string to add to column names (e.g. 'by median')\n",
    "        to_median = Boolean (True if we are calculating Site EUI median, False otherwise)\n",
    "        to_twenty_fifth_percentile = Boolean (True if we are calculating Site EUI 75th percentile, False otherwise)\n",
    "        top_quartile_reduce_2_perc = Boolean (True if we are calculating 2% reduction on Top Quartile, False otherwise)\n",
    "    Outputs: \n",
    "        pandas dataframe with new columns\n",
    "    '''\n",
    "    #Constant\n",
    "    KWH_TO_KBTU_CONVERSION = 0.293083\n",
    "    \n",
    "    \n",
    "    #Creating cut-offs for different scenarios\n",
    "    if to_twenty_fifth_percentile:\n",
    "        #use twenty fifth percentile\n",
    "        cut_off = df['Site EUI (kBtu/ft2)'].quantile(.25)\n",
    "    elif top_quartile_reduce_2_perc:\n",
    "        #use best 25% of performers in Site energy use as cut-off\n",
    "        cut_off = df['Site Energy Use (kBtu)'].quantile(.25)\n",
    "    else:\n",
    "        #defaults to using median\n",
    "        cut_off = df['Site EUI (kBtu/ft2)'].median()\n",
    "\n",
    "    #for reducing top quartile by 2%\n",
    "    if top_quartile_reduce_2_perc:\n",
    "        #first column\n",
    "        #NOTE: we perform the 2% reduction on the best 25% of buildings measured by Site Energy Use, not Site EUI. \n",
    "        #Site EUI is used for the to_median and to_twenty_fifth_percentile calculations.\n",
    "        reduced_energy = df[df['Site Energy Use (kBtu)'] < cut_off]['Site Energy Use (kBtu)'] * 0.02\n",
    "        df['reduced site eui ' + '(' + identifier +')'] = (\n",
    "           reduced_energy / df['Property GFA - EPA Calculated (Buildings) (ft2)'])\n",
    "    else:\n",
    "        #first column: \n",
    "        df['reduced site eui ' + '(' + identifier +')'] = df[data['Site EUI (kBtu/ft2)'] > cut_off].apply(\n",
    "            lambda row: row['Site EUI (kBtu/ft2)'] - cut_off, axis=1)\n",
    "        \n",
    "    # second column\n",
    "    df['total reduced site energy (kBtu) '+ '(' + identifier +')'] = (\n",
    "        df['Property GFA - EPA Calculated (Buildings) (ft2)'] * \n",
    "        df['reduced site eui ' + '(' + identifier +')'])\n",
    "    # third column: PercentageReduction = Result from Step 2 / Site EUI (not weather normalized)\n",
    "    df['percentage reduction in energy use '+ '(' + identifier +')'] = (\n",
    "        df['total reduced site energy (kBtu) '+ '(' + identifier +')'] / \n",
    "        df['Site Energy Use (kBtu)'])\n",
    "    # fourth column\n",
    "    df['ratio of source to site EUI '+ '(' + identifier +')'] = (\n",
    "        df['Source Energy Use (kBtu)'] / \n",
    "        df['Site Energy Use (kBtu)'])\n",
    "    # fifth column: total reduce source energy use\n",
    "    df['total reduced source (kBtu) '+ '(' + identifier +')'] = (\n",
    "        df['total reduced site energy (kBtu) '+ '(' + identifier +')'] * \n",
    "        df['ratio of source to site EUI '+ '(' + identifier +')'])\n",
    "    # sixth column: reduction in electricy use\n",
    "    df['reduction in kwh/year '+ '(' + identifier +')'] = (\n",
    "        df['percentage reduction in energy use '+ '(' + identifier +')'] *\n",
    "        df['Electricity Use - Grid Purchase and Generated from Onsite Renewable Systems (kWh)'] * \n",
    "        KWH_TO_KBTU_CONVERSION)\n",
    "    # seventh column: reduction in site natural gas\n",
    "    df['natural gas reduction (kBTUs/year) '+ '(' + identifier +')'] = (\n",
    "        df['percentage reduction in energy use '+ '(' + identifier +')'] * \n",
    "        df['Natural Gas Use (kBtu)'])\n",
    "    # eighth column: reduction in greenhouse gas emissions\n",
    "    df['GHG reduction (MT CO2e reduced / year) '+ '(' + identifier +')'] = (\n",
    "            df['percentage reduction in energy use '+ '(' + identifier +')'] * \n",
    "            df['Total GHG Emissions (Metric Tons CO2e)'])\n",
    "    \n",
    "    return df"
   ]
  },
  {
   "cell_type": "code",
   "execution_count": 5,
   "metadata": {
    "collapsed": false
   },
   "outputs": [],
   "source": [
    "'''\n",
    "Healthcare Categories\n",
    "    - Ambulatory, Output Rehabilition, Urgent Care\n",
    "    - Hospital\n",
    "    - Medical Office\n",
    "    - Other - Specialty Hospital\n",
    "    \n",
    "'''\n",
    "ambulatory_output_urgentcare_df = data[\n",
    "    (data['Primary Property Type - EPA Calculated'] == 'Ambulatory Surgical Center') |\n",
    "    (data['Primary Property Type - EPA Calculated'] == 'Outpatient Rehabilitation/Physical Therapy') | \n",
    "    (data['Primary Property Type - EPA Calculated'] == 'Urgent Care/Clinic/Other Outpatient')]\n",
    "\n",
    "hospital_df = data[\n",
    "    data['Primary Property Type - EPA Calculated'] == 'Hospital (General Medical & Surgical)']\n",
    "\n",
    "medical_df = data[data['Primary Property Type - EPA Calculated'] == 'Medical Office']\n",
    "\n",
    "other_hospital_df = data[data['Primary Property Type - EPA Calculated'] == 'Other - Specialty Hospital']"
   ]
  },
  {
   "cell_type": "code",
   "execution_count": 6,
   "metadata": {
    "collapsed": false
   },
   "outputs": [],
   "source": [
    "'''\n",
    "Lodging Categories\n",
    "    - Hotel\n",
    "    - Other - Lodging and Residence Hall\n",
    "    - Senior Care\n",
    "'''\n",
    "hotel_df = data[(data['Primary Property Type - EPA Calculated'] == 'Hotel')]\n",
    "\n",
    "other_res_hall_df = data[\n",
    "    (data['Primary Property Type - EPA Calculated'] == 'Other - Lodging/Residential') |\n",
    "    (data['Primary Property Type - EPA Calculated'] == 'Residence Hall/Dormitory')]\n",
    "\n",
    "senior_care_df = data[data['Primary Property Type - EPA Calculated'] == 'Senior Care Community']"
   ]
  },
  {
   "cell_type": "code",
   "execution_count": 7,
   "metadata": {
    "collapsed": false
   },
   "outputs": [],
   "source": [
    "'''\n",
    "Office Categories\n",
    "    - Financial Office\n",
    "    - Small Office: < 100,000 square feet\n",
    "    - Medium Office: 100,000 <= office sqft < 250,000\n",
    "    - Large Office: >= 250,000\n",
    "'''\n",
    "financial_df = data[\n",
    "    (data['Primary Property Type - EPA Calculated'] == 'Financial Office')]\n",
    "\n",
    "small_office_df = data[\n",
    "    (data['Primary Property Type - EPA Calculated'] == 'Office') &\n",
    "    (data['Property GFA - EPA Calculated (Buildings) (ft2)'] < 100000)]\n",
    "\n",
    "med_office_df = data[\n",
    "    (data['Primary Property Type - EPA Calculated'] == 'Office') &\n",
    "    (data['Property GFA - EPA Calculated (Buildings) (ft2)'] >= 100000) & \n",
    "    (data['Property GFA - EPA Calculated (Buildings) (ft2)'] < 250000)]\n",
    "\n",
    "large_office_df = data[\n",
    "    (data['Primary Property Type - EPA Calculated'] == 'Office') &\n",
    "    (data['Property GFA - EPA Calculated (Buildings) (ft2)'] >= 250000)]"
   ]
  },
  {
   "cell_type": "code",
   "execution_count": 8,
   "metadata": {
    "collapsed": false
   },
   "outputs": [],
   "source": [
    "'''\n",
    "Retail Categories\n",
    "    - Automobile Dealership\n",
    "    - Enclosed & Other Mall\n",
    "    - Retail Store\n",
    "    - Strip Mall\n",
    "    - Supermarket/Grocery Store\n",
    "    - Wholesale Club/Other - Services/Repair - Services\n",
    "'''\n",
    "auto_df = data[\n",
    "    (data['Primary Property Type - EPA Calculated'] == 'Automobile Dealership')]\n",
    "\n",
    "enclosed_mall_df = data[\n",
    "    (data['Primary Property Type - EPA Calculated'] == 'Enclosed Mall') |\n",
    "    (data['Primary Property Type - EPA Calculated'] == 'Other - Mall')]\n",
    "\n",
    "retail_store_df = data[data['Primary Property Type - EPA Calculated'] == 'Retail Store']\n",
    "\n",
    "strip_mall_df = data[data['Primary Property Type - EPA Calculated'] == 'Strip Mall']\n",
    "\n",
    "supermarket_df = data[data['Primary Property Type - EPA Calculated'] == 'Supermarket/Grocery Store']\n",
    "\n",
    "wholesale_other_df = data[\n",
    "    (data['Primary Property Type - EPA Calculated'] == 'Wholesale Club/Supercenter') |\n",
    "    (data['Primary Property Type - EPA Calculated'] == 'Other - Services') |\n",
    "    (data['Primary Property Type - EPA Calculated'] == 'Repair Services (Vehicle, Shoe, Locksmith, etc.)')]"
   ]
  },
  {
   "cell_type": "code",
   "execution_count": 9,
   "metadata": {
    "collapsed": false
   },
   "outputs": [],
   "source": [
    "'''\n",
    "K12 Categories\n",
    "    - Small School: < 100,000 square feet\n",
    "    - Medium School: 100,000 <= office sqft < 250,000\n",
    "    - Large School: >= 250,000\n",
    "'''\n",
    "\n",
    "small_school_df = data[\n",
    "    (data['Primary Property Type - EPA Calculated'] == 'K-12 School') &\n",
    "    (data['Property GFA - EPA Calculated (Buildings) (ft2)'] < 100000)]\n",
    "\n",
    "med_school_df = data[\n",
    "    (data['Primary Property Type - EPA Calculated'] == 'K-12 School') &\n",
    "    (data['Property GFA - EPA Calculated (Buildings) (ft2)'] >= 100000) & \n",
    "    (data['Property GFA - EPA Calculated (Buildings) (ft2)'] < 250000)]\n",
    "\n",
    "large_school_df = data[\n",
    "    (data['Primary Property Type - EPA Calculated'] == 'K-12 School') &\n",
    "    (data['Property GFA - EPA Calculated (Buildings) (ft2)'] >= 250000)]"
   ]
  },
  {
   "cell_type": "code",
   "execution_count": 10,
   "metadata": {
    "collapsed": true
   },
   "outputs": [],
   "source": [
    "'''\n",
    "Multifamily Categories\n",
    "    - Small Multifamily: < 500,000 square feet\n",
    "    - Medium Multifamily: 500,000 <= office sqft < 1,000,000\n",
    "    - Large Multifamily: >= 1,000,000\n",
    "'''\n",
    "\n",
    "small_multifamily_df = data[\n",
    "    (data['Primary Property Type - EPA Calculated'] == 'Multifamily Housing') &\n",
    "    (data['Property GFA - EPA Calculated (Buildings) (ft2)'] < 500000)]\n",
    "\n",
    "med_multifamily_df = data[\n",
    "    (data['Primary Property Type - EPA Calculated'] == 'Multifamily Housing') &\n",
    "    (data['Property GFA - EPA Calculated (Buildings) (ft2)'] >= 500000) & \n",
    "    (data['Property GFA - EPA Calculated (Buildings) (ft2)'] < 1000000)]\n",
    "\n",
    "large_multifamily_df = data[\n",
    "    (data['Primary Property Type - EPA Calculated'] == 'Multifamily Housing') &\n",
    "    (data['Property GFA - EPA Calculated (Buildings) (ft2)'] >= 1000000)]"
   ]
  },
  {
   "cell_type": "code",
   "execution_count": 11,
   "metadata": {
    "collapsed": false
   },
   "outputs": [],
   "source": [
    "'''\n",
    "Other Categories\n",
    "    - Adult Education/Other Ed/Preschool\n",
    "    - Convention Center/Other Entertainment/Public Assembly\n",
    "    - Court/Other\n",
    "    - Distribution Center/Other\n",
    "    - Fitness\n",
    "    - Indoor Arena/Other\n",
    "    - Laboratory\n",
    "    - Library\n",
    "    - Mixed Used\n",
    "    - Movie Theather/Entertainment\n",
    "    - Museum\n",
    "    - Worship Facility\n",
    "'''\n",
    "\n",
    "adult_other_df = data[\n",
    "    (data['Primary Property Type - EPA Calculated'] == 'Adult Education') |\n",
    "    (data['Primary Property Type - EPA Calculated'] == 'Other - Education') |\n",
    "    (data['Primary Property Type - EPA Calculated'] == 'Pre-school/Daycare')]\n",
    "\n",
    "convention_other_df = data[\n",
    "    (data['Primary Property Type - EPA Calculated'] == 'Convention Center') |\n",
    "    (data['Primary Property Type - EPA Calculated'] == 'Other - Entertainment/Public Assembly')]\n",
    "\n",
    "court_other_df = data[\n",
    "    (data['Primary Property Type - EPA Calculated'] == 'Courthouse') |\n",
    "    (data['Primary Property Type - EPA Calculated'] == 'Other - Public Services') |\n",
    "    (data['Primary Property Type - EPA Calculated'] == 'Prison/Incarceration')]\n",
    "\n",
    "distribution_other_df = data[\n",
    "    (data['Primary Property Type - EPA Calculated'] == 'Distribution Center') |\n",
    "    (data['Primary Property Type - EPA Calculated'] == 'Other') |\n",
    "    (data['Primary Property Type - EPA Calculated'] == 'Not Available')|\n",
    "    (data['Primary Property Type - EPA Calculated'] == 'Self-Storage Facility')]\n",
    "\n",
    "fitness_other_df = data[\n",
    "    data['Primary Property Type - EPA Calculated'] == 'Fitness Center/Health Club/Gym']\n",
    "\n",
    "indoor_other_df = data[\n",
    "    (data['Primary Property Type - EPA Calculated'] == 'Indoor Arena') |\n",
    "    (data['Primary Property Type - EPA Calculated'] == 'Other - Recreation')]\n",
    "\n",
    "laboratory_df = data[data['Primary Property Type - EPA Calculated'] == 'Laboratory']\n",
    "\n",
    "library_df = data[data['Primary Property Type - EPA Calculated'] == 'Library']\n",
    "\n",
    "mixed_df = data[data['Primary Property Type - EPA Calculated'] == 'Mixed Use Property']\n",
    "\n",
    "movie_df = data[\n",
    "    (data['Primary Property Type - EPA Calculated'] == 'Movie Theater') |\n",
    "    (data['Primary Property Type - EPA Calculated'] == 'Performing Arts') |\n",
    "    (data['Primary Property Type - EPA Calculated'] == 'Social/Meeting Hall')]\n",
    "\n",
    "museum_df = data[data['Primary Property Type - EPA Calculated'] == 'Museum']\n",
    "\n",
    "worship_df = data[data['Primary Property Type - EPA Calculated'] == 'Worship Facility']"
   ]
  },
  {
   "cell_type": "code",
   "execution_count": 12,
   "metadata": {
    "collapsed": true
   },
   "outputs": [],
   "source": [
    "'''\n",
    "University Categories\n",
    "    - Small University: < 100,000 square feet\n",
    "    - Medium University: 100,000 <= office sqft < 250,000\n",
    "    - Large University: >= 250,000\n",
    "'''\n",
    "\n",
    "small_uni_df = data[\n",
    "    (data['Primary Property Type - EPA Calculated'] == 'College/University') &\n",
    "    (data['Property GFA - EPA Calculated (Buildings) (ft2)'] < 100000)]\n",
    "\n",
    "med_uni_df = data[\n",
    "    (data['Primary Property Type - EPA Calculated'] == 'College/University') &\n",
    "    (data['Property GFA - EPA Calculated (Buildings) (ft2)'] >= 100000) & \n",
    "    (data['Property GFA - EPA Calculated (Buildings) (ft2)'] < 250000)]\n",
    "\n",
    "large_uni_df = data[\n",
    "    (data['Primary Property Type - EPA Calculated'] == 'College/University') &\n",
    "    (data['Property GFA - EPA Calculated (Buildings) (ft2)'] >= 250000)]"
   ]
  },
  {
   "cell_type": "code",
   "execution_count": 13,
   "metadata": {
    "collapsed": false,
    "scrolled": true
   },
   "outputs": [],
   "source": [
    "# list of dataframes of EPA property type categories. Created this in order to iterate through when applying calculation func.\n",
    "df_list = ([small_uni_df, med_uni_df, large_uni_df, ambulatory_output_urgentcare_df, hospital_df, medical_df, \n",
    "            other_hospital_df, hotel_df, other_res_hall_df, senior_care_df, financial_df, small_office_df, med_office_df, \n",
    "            large_office_df, auto_df, enclosed_mall_df, retail_store_df, strip_mall_df, supermarket_df, wholesale_other_df, \n",
    "            small_school_df, med_school_df, large_school_df, small_multifamily_df, med_multifamily_df, large_multifamily_df, \n",
    "           adult_other_df, convention_other_df, court_other_df, distribution_other_df, fitness_other_df, indoor_other_df, \n",
    "            laboratory_df, library_df, mixed_df, movie_df, museum_df, worship_df])\n",
    "\n",
    "# For loop for running the calculate_reductions function with median site EUI.\n",
    "for df in df_list:\n",
    "    calculate_reductions(df, 'to Median',)\n",
    "\n",
    "# For loop for running the calculate_reductions function with 75th percentile site EUI.\n",
    "for df in df_list:\n",
    "    calculate_reductions(df, 'to Top Quartile', to_twenty_fifth_percentile = True)\n",
    "\n",
    "# For loop for running the calculate_reductions function with 75th percentile site EUI.\n",
    "for df in df_list:\n",
    "    calculate_reductions(df, 'Top Performers', top_quartile_reduce_2_perc = True)"
   ]
  },
  {
   "cell_type": "code",
   "execution_count": 14,
   "metadata": {
    "collapsed": false
   },
   "outputs": [],
   "source": [
    "category_dict = {'university_list': [small_uni_df, med_uni_df, large_uni_df],\n",
    "                'healthcare_list': [ambulatory_output_urgentcare_df, hospital_df, medical_df, other_hospital_df],\n",
    "                'lodging_list': [hotel_df, other_res_hall_df, senior_care_df],\n",
    "                'office_list': [financial_df, small_office_df, med_office_df, large_office_df],\n",
    "                'retail_list': [auto_df, enclosed_mall_df, retail_store_df, strip_mall_df, supermarket_df, wholesale_other_df],\n",
    "                'school_list': [small_school_df, med_school_df, large_school_df],\n",
    "                'multifamily_list': [small_multifamily_df, med_multifamily_df, large_multifamily_df],\n",
    "                'other_list': [adult_other_df, convention_other_df, court_other_df, distribution_other_df, \n",
    "                                fitness_other_df, indoor_other_df,\n",
    "                                laboratory_df, library_df, mixed_df, movie_df, museum_df, worship_df]\n",
    "                 }\n",
    "\n",
    "for name in category_dict:\n",
    "    writer = ExcelWriter('Analysis 40 {0} Results.xlsx'.format(name))\n",
    "    for n, df in enumerate(category_dict[name]):\n",
    "        df.to_excel(writer,'sheet%s' % n)\n",
    "    writer.save()"
   ]
  },
  {
   "cell_type": "code",
   "execution_count": 78,
   "metadata": {
    "collapsed": false
   },
   "outputs": [],
   "source": [
    "def calculate_row(df, scenario):\n",
    "    '''\n",
    "    '''\n",
    "    row_index = {\n",
    "        'low': 'Low End: All properties below the 50th percentile reach the 50th percentile',\n",
    "        'mid': 'High End: All properties below the 75th percentile reach the 75th percentile',\n",
    "        'top': 'High Performers (Top 25th Percentile) Reduce Site Energy Use by 2%',\n",
    "        'energy-low': 'Energy not reduced in Low-End Scenario',\n",
    "        'energy-high': 'Energy not reduced in High-End Scenario'}\n",
    "    \n",
    "    source_energy_reductions = 'Source Energy Savings (MMBTU/year)'\n",
    "    site_energy_reductions = 'Site Energy Savings/year (MMBTU/year)'\n",
    "    GHG_emissions_reductions = 'GHG Emission Reductions (metric tons CO2e/year)'\n",
    "    cost_savings_elec = 'Energy Cost Savings ($/year) (for electricity)'\n",
    "    cost_savings_ng = 'Energy Cost Savings ($/year) (for natural gas)'\n",
    "    investment = 'Estimated Investment'\n",
    "    jobs ='Jobs Created'\n",
    "    number_of_buildings = 'Number of Buildings Included in Savings'\n",
    "        \n",
    "    label_dict = {\n",
    "            'low': {\n",
    "                    source_energy_reductions: 'total reduced source (kBtu) (to Median)',\n",
    "                    site_energy_reductions: 'total reduced site energy (kBtu) (to Median)',\n",
    "                    GHG_emissions_reductions: 'GHG reduction (MT CO2e reduced / year) (to Median)',\n",
    "                    cost_savings_elec: 'reduction in kwh/year (to Median)',\n",
    "                    cost_savings_ng: 'natural gas reduction (kBTUs/year) (to Median)',\n",
    "                    number_of_buildings: 'reduced site eui (to Median)'},\n",
    "            'mid': {\n",
    "                    source_energy_reductions: 'total reduced source (kBtu) (to Top Quartile)',\n",
    "                    site_energy_reductions: 'total reduced site energy (kBtu) (to Top Quartile)',\n",
    "                    GHG_emissions_reductions: 'GHG reduction (MT CO2e reduced / year) (to Top Quartile)',\n",
    "                    cost_savings_elec: 'reduction in kwh/year (to Top Quartile)',\n",
    "                    cost_savings_ng: 'natural gas reduction (kBTUs/year) (to Top Quartile)',\n",
    "                    number_of_buildings: 'reduced site eui (to Top Quartile)'},\n",
    "            'top': {\n",
    "                    source_energy_reductions: 'total reduced source (kBtu) (Top Performers)',\n",
    "                    site_energy_reductions: 'total reduced site energy (kBtu) (Top Performers)',\n",
    "                    GHG_emissions_reductions: 'GHG reduction (MT CO2e reduced / year) (Top Performers)',\n",
    "                    cost_savings_elec: 'reduction in kwh/year (Top Performers)',\n",
    "                    cost_savings_ng: 'natural gas reduction (kBTUs/year) (Top Performers)',\n",
    "                    number_of_buildings: 'reduced site eui (Top Performers)'}\n",
    "        }\n",
    "\n",
    "        \n",
    "    CONSTANTS = {\n",
    "                'CO2e per car / year': 4750, #2013\n",
    "                'Commercial Electricity Price': 0.076, #2016 Estimate based on Adjusted Illinois State Avg Energy Prices\n",
    "                'Conversion kBTU per 1000 ft3': 1021, #http://www.eia.gov/dnav/ng/ng_cons_heat_a_epg0_vgth_btucf_a.htm\n",
    "                'Residential NG Price':  10.3325, #2016 Estimate based on Adjusted Illinois State Avg Energy Prices\n",
    "                'Estimated Payback Period': 3.5, #Shaw Environmental & Infrastructure Group, based on average commercial EE project payback period\n",
    "                'Labor Share of Investment': .5, #Shaw Environmental & Infrastructure Group\n",
    "\n",
    "                'Average Salary': 70000 #Est. ($56,140 = average annual wage, nonresidential building construction, all occupations; http://www.bls.gov/oes/current/naics4_236200.htm) \n",
    "                }\n",
    "    \n",
    "    if scenario == 'energy-low':\n",
    "        calculation_dict = {\n",
    "                'Source Energy Savings (MMBTU/year)': (\n",
    "                    df['Source Energy Use (kBtu)'].sum() / 1000\n",
    "                    ) - (df[label_dict['low'][source_energy_reductions]].sum() / 1000),\n",
    "                'Site Energy Savings/year (MMBTU/year)': (\n",
    "                    df['Site Energy Use (kBtu)'].sum() / 1000\n",
    "                    ) - (df[label_dict['low'][site_energy_reductions]].sum() / 1000)}\n",
    "    elif scenario == 'energy-high':\n",
    "        calculation_dict = {\n",
    "        'Source Energy Savings (MMBTU/year)': (\n",
    "            df['Source Energy Use (kBtu)'].sum() / 1000\n",
    "            ) - (df[label_dict['mid'][source_energy_reductions]].sum() / 1000),\n",
    "        'Site Energy Savings/year (MMBTU/year)': (\n",
    "            df['Site Energy Use (kBtu)'].sum() / 1000\n",
    "            ) - (df[label_dict['mid'][site_energy_reductions]].sum() / 1000)}\n",
    "    else:\n",
    "        calculation_dict = {\n",
    "                    'Source Energy Savings (MMBTU/year)': (\n",
    "                        df[label_dict[scenario][source_energy_reductions]].sum() / 1000\n",
    "                        ),\n",
    "                    'Site Energy Savings/year (MMBTU/year)': (\n",
    "                        df[label_dict[scenario][site_energy_reductions]].sum() / 1000\n",
    "                        ),\n",
    "                    'GHG Emission Reductions (metric tons CO2e/year)': (\n",
    "                        df[label_dict[scenario][GHG_emissions_reductions]].sum()\n",
    "                        ),\n",
    "                    'GHG Emission Reductions - Car equivalent / year': (\n",
    "                        df[label_dict[scenario][GHG_emissions_reductions]].sum() * 1000 / \n",
    "                           CONSTANTS['CO2e per car / year']\n",
    "                        ),\n",
    "                    'Energy Cost Savings ($/year) (for electricity and natural gas only)': (\n",
    "                        (df[label_dict[scenario][cost_savings_elec]].sum() * CONSTANTS['Commercial Electricity Price']) + \n",
    "                        (df[label_dict[scenario][cost_savings_ng ]].sum() /\n",
    "                         CONSTANTS['Conversion kBTU per 1000 ft3'] * \n",
    "                         CONSTANTS['Residential NG Price'])\n",
    "                        ),\n",
    "                    'Estimated Investment': (\n",
    "                        (   #Same as 'Energy Cost Savings ($/year) (for electricity and natural gas only)' multiplied by Payback Period\n",
    "                            (df[label_dict[scenario][cost_savings_elec]].sum() * CONSTANTS['Commercial Electricity Price']) + \n",
    "                            (df[label_dict[scenario][cost_savings_ng ]].sum() /\n",
    "                             CONSTANTS['Conversion kBTU per 1000 ft3'] * \n",
    "                             CONSTANTS['Residential NG Price'])\n",
    "                        ) * CONSTANTS['Estimated Payback Period']\n",
    "                        ),\n",
    "                    'Jobs Created': (\n",
    "                        (\n",
    "                            (#Same as 'Energy Cost Savings ($/year) (for electricity and natural gas only)' multiplied by Payback Period\n",
    "                                (df[label_dict[scenario][cost_savings_elec]].sum() * CONSTANTS['Commercial Electricity Price']) + \n",
    "                                (df[label_dict[scenario][cost_savings_ng ]].sum() /\n",
    "                                 CONSTANTS['Conversion kBTU per 1000 ft3'] * \n",
    "                                 CONSTANTS['Residential NG Price'])\n",
    "                             ) * CONSTANTS['Estimated Payback Period']) *\n",
    "                            CONSTANTS['Labor Share of Investment'] /\n",
    "                            CONSTANTS['Average Salary']\n",
    "                        ),\n",
    "                    'Number of Buildings Included in Savings': df[label_dict[scenario][number_of_buildings]].count()\n",
    "                    }\n",
    "\n",
    "    return pd.DataFrame(calculation_dict, index=[row_index[scenario]])\n",
    "\n",
    "\n",
    "def produce_savings_results(df_list, name):\n",
    "    '''\n",
    "    '''\n",
    "    scenarios = ['mid', 'top', 'energy-low', 'energy-high']\n",
    "    writer = ExcelWriter('Analysis 40 {0} Tables.xlsx'.format(name))\n",
    "    for n, df in enumerate(df_list):\n",
    "        results = calculate_row(df, 'low')\n",
    "        for scenario in scenarios:\n",
    "            results = results.append(calculate_row(df, scenario))\n",
    "        results.to_excel(writer,'sheet%s' % n)\n",
    "    writer.save()\n",
    "        \n",
    "for category in category_dict:\n",
    "    produce_savings_results(category_dict[category], category)"
   ]
  },
  {
   "cell_type": "code",
   "execution_count": 76,
   "metadata": {
    "collapsed": false
   },
   "outputs": [
    {
     "data": {
      "text/html": [
       "<div>\n",
       "<table border=\"1\" class=\"dataframe\">\n",
       "  <thead>\n",
       "    <tr style=\"text-align: right;\">\n",
       "      <th></th>\n",
       "      <th>Energy Cost Savings ($/year) (for electricity and natural gas only)</th>\n",
       "      <th>Estimated Investment</th>\n",
       "      <th>GHG Emission Reductions (metric tons CO2e/year)</th>\n",
       "      <th>GHG Emission Reductions - Car equivalent / year</th>\n",
       "      <th>Jobs Created</th>\n",
       "      <th>Number of Buildings Included in Savings</th>\n",
       "      <th>Site Energy Savings/year (MMBTU/year)</th>\n",
       "      <th>Source Energy Savings (MMBTU/year)</th>\n",
       "    </tr>\n",
       "  </thead>\n",
       "  <tbody>\n",
       "    <tr>\n",
       "      <th>Low End: All properties below the 50th percentile reach the 50th percentile</th>\n",
       "      <td>35023.936385</td>\n",
       "      <td>122583.777347</td>\n",
       "      <td>437.525937</td>\n",
       "      <td>92.110724</td>\n",
       "      <td>0.875598</td>\n",
       "      <td>2</td>\n",
       "      <td>4001.1855</td>\n",
       "      <td>7383.000336</td>\n",
       "    </tr>\n",
       "  </tbody>\n",
       "</table>\n",
       "</div>"
      ],
      "text/plain": [
       "                                                    Energy Cost Savings ($/year) (for electricity and natural gas only)  \\\n",
       "Low End: All properties below the 50th percenti...                                       35023.936385                     \n",
       "\n",
       "                                                    Estimated Investment  \\\n",
       "Low End: All properties below the 50th percenti...         122583.777347   \n",
       "\n",
       "                                                    GHG Emission Reductions (metric tons CO2e/year)  \\\n",
       "Low End: All properties below the 50th percenti...                                       437.525937   \n",
       "\n",
       "                                                    GHG Emission Reductions - Car equivalent / year  \\\n",
       "Low End: All properties below the 50th percenti...                                        92.110724   \n",
       "\n",
       "                                                    Jobs Created  \\\n",
       "Low End: All properties below the 50th percenti...      0.875598   \n",
       "\n",
       "                                                    Number of Buildings Included in Savings  \\\n",
       "Low End: All properties below the 50th percenti...                                        2   \n",
       "\n",
       "                                                    Site Energy Savings/year (MMBTU/year)  \\\n",
       "Low End: All properties below the 50th percenti...                              4001.1855   \n",
       "\n",
       "                                                    Source Energy Savings (MMBTU/year)  \n",
       "Low End: All properties below the 50th percenti...                         7383.000336  "
      ]
     },
     "execution_count": 76,
     "metadata": {},
     "output_type": "execute_result"
    }
   ],
   "source": [
    "calculate_row(other_hospital_df, 'low')"
   ]
  },
  {
   "cell_type": "code",
   "execution_count": 71,
   "metadata": {
    "collapsed": false
   },
   "outputs": [
    {
     "data": {
      "text/plain": [
       "72       38.0\n",
       "78      177.4\n",
       "1376    110.5\n",
       "1414    159.8\n",
       "1536    185.5\n",
       "Name: Site EUI (kBtu/ft2), dtype: float64"
      ]
     },
     "execution_count": 71,
     "metadata": {},
     "output_type": "execute_result"
    }
   ],
   "source": [
    "other_hospital_df['Site EUI (kBtu/ft2)']"
   ]
  },
  {
   "cell_type": "code",
   "execution_count": 42,
   "metadata": {
    "collapsed": false
   },
   "outputs": [],
   "source": []
  },
  {
   "cell_type": "code",
   "execution_count": null,
   "metadata": {
    "collapsed": true
   },
   "outputs": [],
   "source": []
  },
  {
   "cell_type": "code",
   "execution_count": null,
   "metadata": {
    "collapsed": true
   },
   "outputs": [],
   "source": []
  },
  {
   "cell_type": "code",
   "execution_count": null,
   "metadata": {
    "collapsed": true
   },
   "outputs": [],
   "source": []
  },
  {
   "cell_type": "code",
   "execution_count": 48,
   "metadata": {
    "collapsed": false
   },
   "outputs": [
    {
     "data": {
      "text/plain": [
       "11"
      ]
     },
     "execution_count": 48,
     "metadata": {},
     "output_type": "execute_result"
    }
   ],
   "source": [
    "med_uni_df['reduced site eui (Top Performers)'].count()"
   ]
  },
  {
   "cell_type": "code",
   "execution_count": 44,
   "metadata": {
    "collapsed": false
   },
   "outputs": [
    {
     "data": {
      "text/plain": [
       "{'apple': 'a'}"
      ]
     },
     "execution_count": 44,
     "metadata": {},
     "output_type": "execute_result"
    }
   ],
   "source": []
  },
  {
   "cell_type": "code",
   "execution_count": null,
   "metadata": {
    "collapsed": true
   },
   "outputs": [],
   "source": []
  }
 ],
 "metadata": {
  "kernelspec": {
   "display_name": "Python 3",
   "language": "python",
   "name": "python3"
  },
  "language_info": {
   "codemirror_mode": {
    "name": "ipython",
    "version": 3
   },
   "file_extension": ".py",
   "mimetype": "text/x-python",
   "name": "python",
   "nbconvert_exporter": "python",
   "pygments_lexer": "ipython3",
   "version": "3.5.1"
  }
 },
 "nbformat": 4,
 "nbformat_minor": 0
}
